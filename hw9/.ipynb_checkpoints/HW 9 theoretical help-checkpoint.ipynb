{
 "cells": [
  {
   "cell_type": "code",
   "execution_count": 2,
   "metadata": {},
   "outputs": [
    {
     "data": {
      "text/html": [
       "'HW 9 theoretical notepad'"
      ],
      "text/latex": [
       "'HW 9 theoretical notepad'"
      ],
      "text/markdown": [
       "'HW 9 theoretical notepad'"
      ],
      "text/plain": [
       "[1] \"HW 9 theoretical notepad\""
      ]
     },
     "metadata": {},
     "output_type": "display_data"
    }
   ],
   "source": [
    "\"HW 9 theoretical notepad\""
   ]
  },
  {
   "cell_type": "code",
   "execution_count": 28,
   "metadata": {},
   "outputs": [
    {
     "data": {
      "text/html": [
       "2.05277421729217"
      ],
      "text/latex": [
       "2.05277421729217"
      ],
      "text/markdown": [
       "2.05277421729217"
      ],
      "text/plain": [
       "[1] 2.052774"
      ]
     },
     "metadata": {},
     "output_type": "display_data"
    },
    {
     "data": {
      "text/html": [
       "0.621899488952174"
      ],
      "text/latex": [
       "0.621899488952174"
      ],
      "text/markdown": [
       "0.621899488952174"
      ],
      "text/plain": [
       "[1] 0.6218995"
      ]
     },
     "metadata": {},
     "output_type": "display_data"
    },
    {
     "data": {
      "text/html": [
       "12.19525"
      ],
      "text/latex": [
       "12.19525"
      ],
      "text/markdown": [
       "12.19525"
      ],
      "text/plain": [
       "[1] 12.19525"
      ]
     },
     "metadata": {},
     "output_type": "display_data"
    },
    {
     "data": {
      "text/html": [
       "9.985"
      ],
      "text/latex": [
       "9.985"
      ],
      "text/markdown": [
       "9.985"
      ],
      "text/plain": [
       "[1] 9.985"
      ]
     },
     "metadata": {},
     "output_type": "display_data"
    },
    {
     "data": {
      "text/html": [
       "2.21025"
      ],
      "text/latex": [
       "2.21025"
      ],
      "text/markdown": [
       "2.21025"
      ],
      "text/plain": [
       "[1] 2.21025"
      ]
     },
     "metadata": {},
     "output_type": "display_data"
    }
   ],
   "source": [
    "x = data.frame(read.table(\"./milkcarton.txt\", sep=\"\\t\", header=TRUE))\n",
    "whole = x[x$size == \"wholegallon\",]\n",
    "half = x[x$size == \"halfgallon\",]\n",
    "wholeTotal = 0;\n",
    "halfTotal = 0;\n",
    "\n",
    "for (i in c(1:40)) {\n",
    "    wholeTotal = wholeTotal + whole[i,1]\n",
    "    halfTotal = halfTotal + half[i,1]\n",
    "}\n",
    "\n",
    "sd(whole[,1])\n",
    "sd(half[,1])\n",
    "\n",
    "wholeTotal / 40\n",
    "halfTotal / 40\n",
    "\n",
    "(wholeTotal / 40) - (halfTotal / 40)"
   ]
  },
  {
   "cell_type": "code",
   "execution_count": null,
   "metadata": {},
   "outputs": [],
   "source": []
  },
  {
   "cell_type": "code",
   "execution_count": null,
   "metadata": {
    "collapsed": true
   },
   "outputs": [],
   "source": []
  }
 ],
 "metadata": {
  "kernelspec": {
   "display_name": "R",
   "language": "R",
   "name": "ir"
  },
  "language_info": {
   "codemirror_mode": "r",
   "file_extension": ".r",
   "mimetype": "text/x-r-source",
   "name": "R",
   "pygments_lexer": "r",
   "version": "3.4.2"
  }
 },
 "nbformat": 4,
 "nbformat_minor": 2
}
