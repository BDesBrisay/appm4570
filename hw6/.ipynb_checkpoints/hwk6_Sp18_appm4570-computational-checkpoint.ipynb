{
 "cells": [
  {
   "cell_type": "markdown",
   "metadata": {},
   "source": [
    "# Homework #6: Computational\n",
    "*All computations should be done in this notebook using the R kernel. Working in small groups is allowed, but it is important that you make an effort to master the material and hand in your own work.*\n",
    "\n",
    "#### You will be required to submit this notebook, fully compiled with your solutions, as an HTML or ipynb file to Canvas by 2pm on Friday, March 9."
   ]
  },
  {
   "cell_type": "markdown",
   "metadata": {},
   "source": [
    "## Problem 1\n",
    "\n",
    "Conduct a simulation to verify the calculation in theoretical problem 3 (c)."
   ]
  },
  {
   "cell_type": "code",
   "execution_count": 90,
   "metadata": {},
   "outputs": [
    {
     "name": "stdout",
     "output_type": "stream",
     "text": [
      "Out of 10000 trials, 0.9689 trials deviated from 7 by less than 4.26"
     ]
    },
    {
     "data": {
      "text/html": [
       "''"
      ],
      "text/latex": [
       "''"
      ],
      "text/markdown": [
       "''"
      ],
      "text/plain": [
       "[1] \"\""
      ]
     },
     "metadata": {},
     "output_type": "display_data"
    },
    {
     "name": "stdout",
     "output_type": "stream",
     "text": [
      "The lower bound of the probability that X deviates from 7 less than 4.26 is 0.0114"
     ]
    }
   ],
   "source": [
    "#HINT: To really verify the calculation, we should simulate \n",
    "#many realizations of the data and show that the relevant probability is never \n",
    "#less than the specified lower bound.\n",
    "\n",
    "trials = matrix(ncol=1, nrow=10000);\n",
    "\n",
    "for (i in c(1:10000)) {\n",
    "    sample = sample(c(0:1), size=20, replace=TRUE, prob=c(0.65,0.35))\n",
    "    trials[i,1] = length(sample[sample == 1])\n",
    "}\n",
    "#trials\n",
    "filt = trials[trials[,1] <= 11.26]\n",
    "filtIn = filt[filt >= 2.74]\n",
    "filtUnder = filt[filt <= 2.74]\n",
    "\n",
    "lenIn = length(filtIn)\n",
    "\n",
    "probNear7 = lenIn/10000\n",
    "lower = length(filtUnder)/10000\n",
    "\n",
    "cat(\"Out of 10000 trials,\",probNear7,\"trials deviated from 7 by less than 4.26\")\n",
    "\"\"\n",
    "cat(\"The lower bound of the probability that X deviates from 7 less than 4.26 is\", lower)"
   ]
  },
  {
   "cell_type": "markdown",
   "metadata": {},
   "source": [
    "## Problem 2\n",
    "\n",
    "#### (a) Generate three random vectors of length $n = 500$ from:\n",
    "\n",
    "1. $X \\sim beta(3,1)$\n",
    "2. $Y \\sim beta(3,1)$\n",
    "3. $Z \\sim beta(2,3)$\n",
    "\n",
    "#### Present numerical and visual evidence that $X$ and $Y$ are (effectively) uncorrelated."
   ]
  },
  {
   "cell_type": "code",
   "execution_count": 91,
   "metadata": {},
   "outputs": [],
   "source": [
    "n = 500\n",
    "\n",
    "x = rbeta(n,3,1)\n",
    "y = rbeta(n,3,1)\n",
    "z = rbeta(n,2,3)\n",
    "\n"
   ]
  },
  {
   "cell_type": "markdown",
   "metadata": {},
   "source": [
    "#### (b) Create vectors ${\\tt xstar}$ and ${\\tt ystar}$ by taking $X$ and $Y$ and dividing by $Z$.  Are ${\\tt xstar}$ and ${\\tt ystar}$ correlated? Support your claim with numerical and graphical evidence. "
   ]
  },
  {
   "cell_type": "code",
   "execution_count": null,
   "metadata": {},
   "outputs": [],
   "source": []
  },
  {
   "cell_type": "markdown",
   "metadata": {},
   "source": [
    "#### (c) Store these vectors in a data frame called ${\\tt df}$. Load the ggplot2 library, and use the ${\\tt ggplot}$ function below to create a scatter plot of ${\\tt xstar}$ and ${\\tt ystar}$. and color each point"
   ]
  },
  {
   "cell_type": "code",
   "execution_count": null,
   "metadata": {},
   "outputs": [],
   "source": []
  },
  {
   "cell_type": "markdown",
   "metadata": {},
   "source": [
    "#### (d) Interpret and analyze the results from the previous part. What practical lessons can you learn from this example?"
   ]
  },
  {
   "cell_type": "code",
   "execution_count": null,
   "metadata": {
    "collapsed": true
   },
   "outputs": [],
   "source": []
  }
 ],
 "metadata": {
  "kernelspec": {
   "display_name": "R",
   "language": "R",
   "name": "ir"
  },
  "language_info": {
   "codemirror_mode": "r",
   "file_extension": ".r",
   "mimetype": "text/x-r-source",
   "name": "R",
   "pygments_lexer": "r",
   "version": "3.4.2"
  }
 },
 "nbformat": 4,
 "nbformat_minor": 2
}
