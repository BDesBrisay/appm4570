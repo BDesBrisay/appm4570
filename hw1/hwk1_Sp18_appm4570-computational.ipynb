{
 "cells": [
  {
   "cell_type": "markdown",
   "metadata": {},
   "source": [
    "# Homework #1: Computational Portion\n",
    "All computations should be done in this notebook using the R kernel. This is your first opportunity to get familiar with R outside of class, so please take your time on the problems that require it. Working in small groups is allowed, but it is important that you make an effort to master the material and hand in your own work.\n",
    "\n",
    "#### You will be required to submit this file (with your solutions) to Canvas by 2pm on Friday, January 26."
   ]
  },
  {
   "cell_type": "markdown",
   "metadata": {},
   "source": [
    "## Problem 1\n",
    "\n",
    "#### (a) Load the adm.txt file into R (this file can be found on the course webpage: LINK\n",
    "\n",
    "The dataset contains information from six departments at a University. The variables are:\n",
    "\n",
    "1. dpt = department name (A through F)\n",
    "2. app = the number of applications received by a department's graduate program.\n",
    "3. adm = the number of applications accepted to a department's graduate program.\n",
    "4. sex: m = male; f = female"
   ]
  },
  {
   "cell_type": "code",
   "execution_count": 1,
   "metadata": {},
   "outputs": [
    {
     "name": "stderr",
     "output_type": "stream",
     "text": [
      "Warning message in file(file, \"rt\"):\n",
      "“cannot open file '/home/bryce/Google Drive/University of Colorado/Boulder/APPM 4570 Statistical Methods/appm4570-homework/homework-1/adm.txt': No such file or directory”"
     ]
    },
    {
     "ename": "ERROR",
     "evalue": "Error in file(file, \"rt\"): cannot open the connection\n",
     "output_type": "error",
     "traceback": [
      "Error in file(file, \"rt\"): cannot open the connection\nTraceback:\n",
      "1. read.table(\"~/Google Drive/University of Colorado/Boulder/APPM 4570 Statistical Methods/appm4570-homework/homework-1/adm.txt\", \n .     sep = \"\\t\")",
      "2. file(file, \"rt\")"
     ]
    }
   ],
   "source": [
    "adm = read.table(\"~/Google Drive/University of Colorado/Boulder/APPM 4570 Statistical Methods/appm4570-homework/homework-1/adm.txt\", sep = \"\\t\")\n",
    "adm"
   ]
  },
  {
   "cell_type": "markdown",
   "metadata": {},
   "source": [
    "#### (b) Write code that extracts and prints the data from department A only."
   ]
  },
  {
   "cell_type": "code",
   "execution_count": 3,
   "metadata": {},
   "outputs": [
    {
     "data": {
      "text/html": [
       "<table>\n",
       "<thead><tr><th></th><th scope=col>dpt</th><th scope=col>app</th><th scope=col>adm</th><th scope=col>sex</th></tr></thead>\n",
       "<tbody>\n",
       "\t<tr><th scope=row>1</th><td>A  </td><td>825</td><td>512</td><td>m  </td></tr>\n",
       "\t<tr><th scope=row>7</th><td>A  </td><td>108</td><td> 89</td><td>f  </td></tr>\n",
       "</tbody>\n",
       "</table>\n"
      ],
      "text/latex": [
       "\\begin{tabular}{r|llll}\n",
       "  & dpt & app & adm & sex\\\\\n",
       "\\hline\n",
       "\t1 & A   & 825 & 512 & m  \\\\\n",
       "\t7 & A   & 108 &  89 & f  \\\\\n",
       "\\end{tabular}\n"
      ],
      "text/markdown": [
       "\n",
       "| <!--/--> | dpt | app | adm | sex | \n",
       "|---|---|\n",
       "| 1 | A   | 825 | 512 | m   | \n",
       "| 7 | A   | 108 |  89 | f   | \n",
       "\n",
       "\n"
      ],
      "text/plain": [
       "  dpt app adm sex\n",
       "1 A   825 512 m  \n",
       "7 A   108  89 f  "
      ]
     },
     "metadata": {},
     "output_type": "display_data"
    }
   ],
   "source": [
    "adm[adm$dpt == \"A\",]"
   ]
  },
  {
   "cell_type": "markdown",
   "metadata": {},
   "source": [
    "#### (c) Write code that prints departments with a rate of acceptance of higher than 50%."
   ]
  },
  {
   "cell_type": "code",
   "execution_count": 8,
   "metadata": {},
   "outputs": [
    {
     "data": {
      "text/html": [
       "<ol class=list-inline>\n",
       "\t<li>A</li>\n",
       "\t<li>B</li>\n",
       "</ol>\n"
      ],
      "text/latex": [
       "\\begin{enumerate*}\n",
       "\\item A\n",
       "\\item B\n",
       "\\end{enumerate*}\n"
      ],
      "text/markdown": [
       "1. A\n",
       "2. B\n",
       "\n",
       "\n"
      ],
      "text/plain": [
       "[1] A B\n",
       "Levels: A B C D E F"
      ]
     },
     "metadata": {},
     "output_type": "display_data"
    }
   ],
   "source": [
    "rate = (adm$adm[adm$sex == \"m\"] + adm$adm[adm$sex == \"f\"])/(adm$app[adm$sex == \"m\"] + adm$app[adm$sex == \"f\"])\n",
    "a = adm$dpt[rate > 0.5]; a[1:2]\n"
   ]
  },
  {
   "cell_type": "markdown",
   "metadata": {},
   "source": [
    "#### (d) What is the addmission rate for males at this university (across all departments)?"
   ]
  },
  {
   "cell_type": "code",
   "execution_count": 9,
   "metadata": {},
   "outputs": [
    {
     "data": {
      "text/html": [
       "0.46023166023166"
      ],
      "text/latex": [
       "0.46023166023166"
      ],
      "text/markdown": [
       "0.46023166023166"
      ],
      "text/plain": [
       "[1] 0.4602317"
      ]
     },
     "metadata": {},
     "output_type": "display_data"
    }
   ],
   "source": [
    "adm_male = sum(adm$adm[1:6])/sum(adm$app[1:6]); adm_male"
   ]
  },
  {
   "cell_type": "markdown",
   "metadata": {},
   "source": [
    "#### (d) What is the addmission rate for females at this university (across all departments)?"
   ]
  },
  {
   "cell_type": "code",
   "execution_count": 10,
   "metadata": {},
   "outputs": [
    {
     "data": {
      "text/html": [
       "0.303542234332425"
      ],
      "text/latex": [
       "0.303542234332425"
      ],
      "text/markdown": [
       "0.303542234332425"
      ],
      "text/plain": [
       "[1] 0.3035422"
      ]
     },
     "metadata": {},
     "output_type": "display_data"
    }
   ],
   "source": [
    "adm_female = sum(adm$adm[7:12])/sum(adm$app[7:12]); adm_female"
   ]
  },
  {
   "cell_type": "markdown",
   "metadata": {},
   "source": [
    "#### (e) Is there a large discrepancy? Could this be evidence of discrimination against female applicants?"
   ]
  },
  {
   "cell_type": "markdown",
   "metadata": {},
   "source": [
    "Yes, there is a large difference and as such, it might be evidence of discrimination. "
   ]
  },
  {
   "cell_type": "markdown",
   "metadata": {},
   "source": [
    "#### (f) What is the admission rate for males, and separately, females, at this university, conditioned on department?"
   ]
  },
  {
   "cell_type": "code",
   "execution_count": 11,
   "metadata": {},
   "outputs": [
    {
     "data": {
      "text/html": [
       "<table>\n",
       "<thead><tr><th scope=col>Department</th><th scope=col>female</th><th scope=col>Male</th></tr></thead>\n",
       "<tbody>\n",
       "\t<tr><td>A         </td><td>0.62060606</td><td>0.82407407</td></tr>\n",
       "\t<tr><td>B         </td><td>0.63035714</td><td>0.68000000</td></tr>\n",
       "\t<tr><td>C         </td><td>0.36923077</td><td>0.34064081</td></tr>\n",
       "\t<tr><td>D         </td><td>0.33093525</td><td>0.34933333</td></tr>\n",
       "\t<tr><td>E         </td><td>0.27748691</td><td>0.23918575</td></tr>\n",
       "\t<tr><td>F         </td><td>0.05882353</td><td>0.07038123</td></tr>\n",
       "</tbody>\n",
       "</table>\n"
      ],
      "text/latex": [
       "\\begin{tabular}{r|lll}\n",
       " Department & female & Male\\\\\n",
       "\\hline\n",
       "\t A          & 0.62060606 & 0.82407407\\\\\n",
       "\t B          & 0.63035714 & 0.68000000\\\\\n",
       "\t C          & 0.36923077 & 0.34064081\\\\\n",
       "\t D          & 0.33093525 & 0.34933333\\\\\n",
       "\t E          & 0.27748691 & 0.23918575\\\\\n",
       "\t F          & 0.05882353 & 0.07038123\\\\\n",
       "\\end{tabular}\n"
      ],
      "text/markdown": [
       "\n",
       "Department | female | Male | \n",
       "|---|---|---|---|---|---|\n",
       "| A          | 0.62060606 | 0.82407407 | \n",
       "| B          | 0.63035714 | 0.68000000 | \n",
       "| C          | 0.36923077 | 0.34064081 | \n",
       "| D          | 0.33093525 | 0.34933333 | \n",
       "| E          | 0.27748691 | 0.23918575 | \n",
       "| F          | 0.05882353 | 0.07038123 | \n",
       "\n",
       "\n"
      ],
      "text/plain": [
       "  Department female     Male      \n",
       "1 A          0.62060606 0.82407407\n",
       "2 B          0.63035714 0.68000000\n",
       "3 C          0.36923077 0.34064081\n",
       "4 D          0.33093525 0.34933333\n",
       "5 E          0.27748691 0.23918575\n",
       "6 F          0.05882353 0.07038123"
      ]
     },
     "metadata": {},
     "output_type": "display_data"
    }
   ],
   "source": [
    "tab = matrix(adm$adm/adm$app, ncol = 2)\n",
    "d = c(\"A\",\"B\",\"C\",\"D\",\"E\",\"F\")\n",
    "tabdf = data.frame(d,tab)\n",
    "names(tabdf) = c(\"Department\",\"female\", \"Male\")\n",
    "tabdf"
   ]
  },
  {
   "cell_type": "markdown",
   "metadata": {},
   "source": [
    "#### (g) What do you notice about these results? Are they in tension with the result from (d)?"
   ]
  },
  {
   "cell_type": "markdown",
   "metadata": {},
   "source": [
    "With the inclusion of department we now see that females actually have higher admission rates in four of the six departments (A,B,D,F). How can this be? It had to do with rates and the volume of admission to the various departments. Again, the groups were highly unbalanced. "
   ]
  },
  {
   "cell_type": "markdown",
   "metadata": {},
   "source": [
    "## Problem 2\n",
    "\n",
    "Verify the results of theoretical question 3, parts (c) and (d), by simulating $x_1,...,x_{25}$ and performing the relevant computations. You could simulate $x_1,...,x_{25}$ by using ${\\tt x = rnorm(25, 5, 1)}$ (for example)."
   ]
  },
  {
   "cell_type": "code",
   "execution_count": 19,
   "metadata": {},
   "outputs": [
    {
     "data": {
      "text/html": [
       "0"
      ],
      "text/latex": [
       "0"
      ],
      "text/markdown": [
       "0"
      ],
      "text/plain": [
       "[1] 0"
      ]
     },
     "metadata": {},
     "output_type": "display_data"
    },
    {
     "data": {
      "text/html": [
       "0"
      ],
      "text/latex": [
       "0"
      ],
      "text/markdown": [
       "0"
      ],
      "text/plain": [
       "[1] 0"
      ]
     },
     "metadata": {},
     "output_type": "display_data"
    },
    {
     "data": {
      "text/html": [
       "1"
      ],
      "text/latex": [
       "1"
      ],
      "text/markdown": [
       "1"
      ],
      "text/plain": [
       "[1] 1"
      ]
     },
     "metadata": {},
     "output_type": "display_data"
    },
    {
     "data": {
      "text/html": [
       "1"
      ],
      "text/latex": [
       "1"
      ],
      "text/markdown": [
       "1"
      ],
      "text/plain": [
       "[1] 1"
      ]
     },
     "metadata": {},
     "output_type": "display_data"
    }
   ],
   "source": [
    "x = rnorm(25,5,1)\n",
    "xbar = mean(x); sx = sd(x); sxsq = var(x)\n",
    "\n",
    "#part (c)\n",
    "y = x - xbar; sy = sd(y); sysq = var(y)\n",
    "\n",
    "abs(sx - sy)\n",
    "abs(sxsq - sysq)\n",
    "\n",
    "#part (d)\n",
    "\n",
    "z = (y/sx); sz = sd(z); szsq = var(z)\n",
    "sz\n",
    "szsq"
   ]
  },
  {
   "cell_type": "code",
   "execution_count": null,
   "metadata": {
    "collapsed": true
   },
   "outputs": [],
   "source": []
  }
 ],
 "metadata": {
  "kernelspec": {
   "display_name": "R",
   "language": "R",
   "name": "ir"
  },
  "language_info": {
   "codemirror_mode": "r",
   "file_extension": ".r",
   "mimetype": "text/x-r-source",
   "name": "R",
   "pygments_lexer": "r",
   "version": "3.4.2"
  }
 },
 "nbformat": 4,
 "nbformat_minor": 2
}
