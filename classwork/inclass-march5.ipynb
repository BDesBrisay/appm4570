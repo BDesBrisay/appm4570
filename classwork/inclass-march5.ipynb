{
 "cells": [
  {
   "cell_type": "code",
   "execution_count": 10,
   "metadata": {},
   "outputs": [
    {
     "data": {
      "text/html": [
       "-0.0195974136459025"
      ],
      "text/latex": [
       "-0.0195974136459025"
      ],
      "text/markdown": [
       "-0.0195974136459025"
      ],
      "text/plain": [
       "[1] -0.01959741"
      ]
     },
     "metadata": {},
     "output_type": "display_data"
    },
    {
     "data": {
      "text/html": [
       "0.967815065982702"
      ],
      "text/latex": [
       "0.967815065982702"
      ],
      "text/markdown": [
       "0.967815065982702"
      ],
      "text/plain": [
       "[1] 0.9678151"
      ]
     },
     "metadata": {},
     "output_type": "display_data"
    }
   ],
   "source": [
    "x = runif(10000, min=-1, max=1)\n",
    "y = x^2\n",
    "\n",
    "cor(x,y)\n",
    "# Close to 0\n",
    "\n",
    "w = runif(10000, min=0, max=1)\n",
    "z = w^2\n",
    "\n",
    "cor(w,z)\n",
    "# Close to 1\n"
   ]
  },
  {
   "cell_type": "code",
   "execution_count": null,
   "metadata": {
    "collapsed": true
   },
   "outputs": [],
   "source": []
  },
  {
   "cell_type": "code",
   "execution_count": null,
   "metadata": {
    "collapsed": true
   },
   "outputs": [],
   "source": []
  }
 ],
 "metadata": {
  "kernelspec": {
   "display_name": "R",
   "language": "R",
   "name": "ir"
  },
  "language_info": {
   "codemirror_mode": "r",
   "file_extension": ".r",
   "mimetype": "text/x-r-source",
   "name": "R",
   "pygments_lexer": "r",
   "version": "3.4.2"
  }
 },
 "nbformat": 4,
 "nbformat_minor": 2
}
