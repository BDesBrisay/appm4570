{
 "cells": [
  {
   "cell_type": "markdown",
   "metadata": {},
   "source": [
    "## Unit 7 Code\n"
   ]
  },
  {
   "cell_type": "markdown",
   "metadata": {},
   "source": [
    "## Problem 1 \n",
    "\n",
    "Natural cork in wine bottles is subject to deterioration, and as a result wine in such bottles may experience contamination. \n",
    "\n",
    "The article “Effects of Bottle Closure Type on Consumer Perceptions of Wine Quality” (Amer. J. of Enology and Viticulture, 2007: 182–191) reported that, in a tasting of commercial chardonnays, 16 of 91 bottles were considered spoiled to some extent by cork-associated characteristics.\n",
    "\n",
    "#### Does this data provide strong evidence for concluding that more than 15% of all such bottles are contaminated in this way?  Use a significance level equal to 0.10.\n"
   ]
  },
  {
   "cell_type": "code",
   "execution_count": 10,
   "metadata": {},
   "outputs": [
    {
     "data": {
      "text/html": [
       "'H0: Mu = 15%'"
      ],
      "text/latex": [
       "'H0: Mu = 15\\%'"
      ],
      "text/markdown": [
       "'H0: Mu = 15%'"
      ],
      "text/plain": [
       "[1] \"H0: Mu = 15%\""
      ]
     },
     "metadata": {},
     "output_type": "display_data"
    },
    {
     "data": {
      "text/html": [
       "'H1: Mu &gt; 15%'"
      ],
      "text/latex": [
       "'H1: Mu > 15\\%'"
      ],
      "text/markdown": [
       "'H1: Mu &gt; 15%'"
      ],
      "text/plain": [
       "[1] \"H1: Mu > 15%\""
      ]
     },
     "metadata": {},
     "output_type": "display_data"
    },
    {
     "data": {
      "text/html": [
       "<span style=white-space:pre-wrap>'0.652695243074752  &lt;  1.29'</span>"
      ],
      "text/latex": [
       "'0.652695243074752  <  1.29'"
      ],
      "text/markdown": [
       "<span style=white-space:pre-wrap>'0.652695243074752  &lt;  1.29'</span>"
      ],
      "text/plain": [
       "[1] \"0.652695243074752  <  1.29\""
      ]
     },
     "metadata": {},
     "output_type": "display_data"
    },
    {
     "data": {
      "text/html": [
       "'Fails to reject H0'"
      ],
      "text/latex": [
       "'Fails to reject H0'"
      ],
      "text/markdown": [
       "'Fails to reject H0'"
      ],
      "text/plain": [
       "[1] \"Fails to reject H0\""
      ]
     },
     "metadata": {},
     "output_type": "display_data"
    }
   ],
   "source": [
    "\"H0: Mu = 15%\"\n",
    "\"H1: Mu > 15%\"\n",
    "mean = 0.176\n",
    "sd = 0.38\n",
    "n = 91\n",
    "siglev = 0.1\n",
    "z = (mean - 0.15)/(sd / sqrt(n))\n",
    "zsiglev = 1.29\n",
    "\n",
    "paste(z,\n",
    "\" < \",\n",
    "zsiglev)\n",
    "\n",
    "\"Fails to reject H0\""
   ]
  },
  {
   "cell_type": "markdown",
   "metadata": {},
   "source": [
    "## Problem 2\n",
    "\n",
    "#### (a) Consider the test $H_0: \\mu = 0$ vs $H_1: \\mu = 0.8$. Simulate a $m = 10,000$ samples of size $n = 5$ under the null hypothesis. Fix $\\sigma = 1$ and assume that it is known. (You can copy this code from Unit #6 exercises.)"
   ]
  },
  {
   "cell_type": "code",
   "execution_count": 22,
   "metadata": {
    "scrolled": true
   },
   "outputs": [
    {
     "data": {
      "text/html": [
       "<table>\n",
       "<tbody>\n",
       "\t<tr><td>-1.8602899 </td><td>-0.21598372</td><td>-0.82364399</td><td>-2.1172429 </td><td> 2.12056468</td></tr>\n",
       "\t<tr><td> 0.6907932 </td><td>-0.42917906</td><td> 0.16338217</td><td>-1.3307128 </td><td>-0.84364308</td></tr>\n",
       "\t<tr><td> 0.6422796 </td><td>-1.06500675</td><td>-1.06080617</td><td>-1.1242589 </td><td> 0.94703364</td></tr>\n",
       "\t<tr><td>-1.4834182 </td><td> 0.74086650</td><td> 0.24145978</td><td> 0.2877146 </td><td> 0.32896305</td></tr>\n",
       "\t<tr><td>-0.1478364 </td><td> 0.34456818</td><td> 1.96166631</td><td>-0.8659266 </td><td>-0.49493325</td></tr>\n",
       "\t<tr><td> 0.4161106 </td><td>-0.29505635</td><td>-0.20112008</td><td>-0.1613818 </td><td> 1.07011720</td></tr>\n",
       "\t<tr><td> 0.6032979 </td><td>-0.74881877</td><td> 0.61990285</td><td> 0.9112314 </td><td>-1.58643643</td></tr>\n",
       "\t<tr><td>-0.4708905 </td><td>-0.47501791</td><td> 0.54633778</td><td> 2.0599858 </td><td> 1.00349902</td></tr>\n",
       "\t<tr><td>-0.1619230 </td><td>-0.54758735</td><td>-0.31698923</td><td>-0.0742030 </td><td>-1.67879150</td></tr>\n",
       "\t<tr><td>-0.5992364 </td><td> 0.72272024</td><td> 0.31026409</td><td>-0.7979000 </td><td>-0.68770074</td></tr>\n",
       "\t<tr><td> 0.1933045 </td><td> 1.17769753</td><td> 0.39972451</td><td> 0.8073914 </td><td>-1.06402033</td></tr>\n",
       "\t<tr><td>-0.2383298 </td><td>-0.16452338</td><td>-0.06644323</td><td> 0.8031977 </td><td> 0.24023158</td></tr>\n",
       "\t<tr><td> 0.6432913 </td><td>-0.68475986</td><td> 1.08717049</td><td>-0.2651370 </td><td>-0.47342016</td></tr>\n",
       "\t<tr><td>-0.2223234 </td><td>-0.55217799</td><td>-0.88665768</td><td>-2.8323442 </td><td> 0.34636179</td></tr>\n",
       "\t<tr><td> 1.3025995 </td><td> 0.07825323</td><td> 0.87398416</td><td> 0.6662669 </td><td> 0.26255191</td></tr>\n",
       "\t<tr><td> 1.0534542 </td><td>-0.73374361</td><td>-0.49068205</td><td> 0.8270420 </td><td> 1.74396972</td></tr>\n",
       "\t<tr><td> 1.5414007 </td><td>-1.31346217</td><td>-1.45189305</td><td>-0.2259437 </td><td>-0.93702707</td></tr>\n",
       "\t<tr><td> 0.5303544 </td><td>-0.56322009</td><td> 0.19311502</td><td>-0.4569229 </td><td>-0.39525172</td></tr>\n",
       "\t<tr><td> 1.6249734 </td><td> 0.75303800</td><td>-0.28527838</td><td>-1.4902555 </td><td> 2.33114400</td></tr>\n",
       "\t<tr><td>-1.4334566 </td><td>-0.94998565</td><td>-1.04798393</td><td> 1.5523640 </td><td> 0.02462123</td></tr>\n",
       "\t<tr><td> 0.9746930 </td><td> 1.87063215</td><td> 1.15501839</td><td>-0.3778713 </td><td> 0.24675314</td></tr>\n",
       "\t<tr><td>-0.6411870 </td><td>-1.36600444</td><td>-0.29345420</td><td>-0.7048451 </td><td> 0.75230141</td></tr>\n",
       "\t<tr><td>-0.5059450 </td><td> 0.50337064</td><td> 0.96659874</td><td>-1.1468435 </td><td>-0.22876038</td></tr>\n",
       "\t<tr><td> 0.7666904 </td><td>-0.90457274</td><td> 1.47479831</td><td>-0.9279860 </td><td>-0.40572518</td></tr>\n",
       "\t<tr><td> 0.1342025 </td><td> 0.56583736</td><td> 1.30377274</td><td>-0.3660433 </td><td>-0.69076255</td></tr>\n",
       "\t<tr><td>-1.1674858 </td><td> 0.08727937</td><td>-0.01176097</td><td>-0.2969652 </td><td>-0.08446600</td></tr>\n",
       "\t<tr><td>-1.6979636 </td><td> 0.45599690</td><td> 0.61013166</td><td>-1.1171375 </td><td>-1.03274404</td></tr>\n",
       "\t<tr><td>-0.4302816 </td><td> 0.35800997</td><td>-1.22710990</td><td> 1.4501382 </td><td>-0.37254118</td></tr>\n",
       "\t<tr><td>-0.3574700 </td><td>-0.48776789</td><td>-1.46351913</td><td>-0.4289163 </td><td>-1.57893323</td></tr>\n",
       "\t<tr><td>-0.2112282 </td><td> 0.04435049</td><td> 0.26308684</td><td> 0.8356807 </td><td> 0.36670102</td></tr>\n",
       "\t<tr><td>⋮</td><td>⋮</td><td>⋮</td><td>⋮</td><td>⋮</td></tr>\n",
       "\t<tr><td>-0.33338027 </td><td> 0.15004895 </td><td>-0.33645959 </td><td> 0.78694277 </td><td> 0.615559549</td></tr>\n",
       "\t<tr><td>-0.97937059 </td><td>-1.80555094 </td><td> 0.13350002 </td><td> 0.00986503 </td><td>-1.579221979</td></tr>\n",
       "\t<tr><td> 0.51062691 </td><td>-1.27023890 </td><td> 0.71324459 </td><td> 1.55449791 </td><td>-0.441503027</td></tr>\n",
       "\t<tr><td>-1.32727036 </td><td> 0.06958855 </td><td> 0.39831557 </td><td>-0.43896551 </td><td>-1.129968881</td></tr>\n",
       "\t<tr><td> 1.80911693 </td><td>-1.30570564 </td><td> 0.95534818 </td><td>-0.22531279 </td><td> 0.007373685</td></tr>\n",
       "\t<tr><td> 0.53505958 </td><td>-0.27282015 </td><td> 0.63407879 </td><td>-0.36400437 </td><td>-1.323452409</td></tr>\n",
       "\t<tr><td> 1.56053222 </td><td> 0.42169819 </td><td>-0.90790721 </td><td> 0.38043827 </td><td>-0.583314345</td></tr>\n",
       "\t<tr><td>-0.99059874 </td><td>-0.24985766 </td><td>-1.17510685 </td><td> 0.35721338 </td><td>-0.967309120</td></tr>\n",
       "\t<tr><td>-0.15091762 </td><td>-1.20711378 </td><td>-0.15352787 </td><td> 1.25445164 </td><td>-0.995120840</td></tr>\n",
       "\t<tr><td> 0.93158394 </td><td>-0.15002360 </td><td>-1.52973804 </td><td>-0.43050431 </td><td> 0.113549912</td></tr>\n",
       "\t<tr><td>-1.48866422 </td><td> 1.11673362 </td><td>-0.71153648 </td><td> 1.26079493 </td><td> 1.098809718</td></tr>\n",
       "\t<tr><td>-0.20726170 </td><td> 0.49669726 </td><td> 0.90747378 </td><td>-0.26013268 </td><td> 1.195288819</td></tr>\n",
       "\t<tr><td>-0.19884505 </td><td> 0.40360040 </td><td> 0.21727290 </td><td>-0.55122930 </td><td> 0.514742399</td></tr>\n",
       "\t<tr><td> 1.24745948 </td><td>-0.97172709 </td><td>-0.75129562 </td><td> 0.07008781 </td><td>-0.356408777</td></tr>\n",
       "\t<tr><td> 0.35068424 </td><td> 0.71207508 </td><td>-1.19560198 </td><td>-0.84799228 </td><td> 1.136791537</td></tr>\n",
       "\t<tr><td> 0.42466986 </td><td> 0.14944088 </td><td>-0.12456903 </td><td>-0.59042226 </td><td>-0.507059000</td></tr>\n",
       "\t<tr><td> 0.20820764 </td><td>-0.46735503 </td><td>-1.30953385 </td><td>-1.21105361 </td><td>-1.313691854</td></tr>\n",
       "\t<tr><td>-0.25310465 </td><td> 0.97963661 </td><td> 0.99639886 </td><td>-0.93711451 </td><td>-0.976649409</td></tr>\n",
       "\t<tr><td> 0.27246945 </td><td> 0.01161248 </td><td>-0.18389784 </td><td>-0.95210762 </td><td>-1.043278336</td></tr>\n",
       "\t<tr><td> 0.56340454 </td><td>-1.80236776 </td><td>-0.88568207 </td><td>-0.08334272 </td><td>-0.233850758</td></tr>\n",
       "\t<tr><td> 0.06343428 </td><td>-0.70748054 </td><td>-0.60738188 </td><td> 0.10302012 </td><td> 0.352394620</td></tr>\n",
       "\t<tr><td>-1.03111209 </td><td>-0.54873922 </td><td> 0.26304813 </td><td> 0.05939748 </td><td> 0.799770947</td></tr>\n",
       "\t<tr><td> 1.69193076 </td><td> 0.05284581 </td><td>-0.55697478 </td><td> 0.86522872 </td><td> 0.193404801</td></tr>\n",
       "\t<tr><td>-0.13698438 </td><td>-2.56487941 </td><td>-0.70432653 </td><td>-0.35648032 </td><td>-0.660003477</td></tr>\n",
       "\t<tr><td>-0.17663468 </td><td> 0.77219394 </td><td>-2.24285347 </td><td> 0.70447814 </td><td> 0.812609239</td></tr>\n",
       "\t<tr><td> 1.26627384 </td><td> 0.13982036 </td><td> 0.44007560 </td><td>-1.00597709 </td><td> 0.750367517</td></tr>\n",
       "\t<tr><td> 0.76270769 </td><td> 0.16953601 </td><td>-0.03769482 </td><td>-0.73347843 </td><td> 0.559003793</td></tr>\n",
       "\t<tr><td>-0.98514251 </td><td> 0.07485655 </td><td>-0.90837579 </td><td>-0.39844190 </td><td> 1.197633805</td></tr>\n",
       "\t<tr><td>-1.01844415 </td><td> 0.41231739 </td><td>-0.18836952 </td><td> 1.37671123 </td><td>-0.767577411</td></tr>\n",
       "\t<tr><td>-0.79626407 </td><td>-1.35804889 </td><td>-0.69387368 </td><td>-0.95258506 </td><td>-1.181880411</td></tr>\n",
       "</tbody>\n",
       "</table>\n"
      ],
      "text/latex": [
       "\\begin{tabular}{lllll}\n",
       "\t -1.8602899  & -0.21598372 & -0.82364399 & -2.1172429  &  2.12056468\\\\\n",
       "\t  0.6907932  & -0.42917906 &  0.16338217 & -1.3307128  & -0.84364308\\\\\n",
       "\t  0.6422796  & -1.06500675 & -1.06080617 & -1.1242589  &  0.94703364\\\\\n",
       "\t -1.4834182  &  0.74086650 &  0.24145978 &  0.2877146  &  0.32896305\\\\\n",
       "\t -0.1478364  &  0.34456818 &  1.96166631 & -0.8659266  & -0.49493325\\\\\n",
       "\t  0.4161106  & -0.29505635 & -0.20112008 & -0.1613818  &  1.07011720\\\\\n",
       "\t  0.6032979  & -0.74881877 &  0.61990285 &  0.9112314  & -1.58643643\\\\\n",
       "\t -0.4708905  & -0.47501791 &  0.54633778 &  2.0599858  &  1.00349902\\\\\n",
       "\t -0.1619230  & -0.54758735 & -0.31698923 & -0.0742030  & -1.67879150\\\\\n",
       "\t -0.5992364  &  0.72272024 &  0.31026409 & -0.7979000  & -0.68770074\\\\\n",
       "\t  0.1933045  &  1.17769753 &  0.39972451 &  0.8073914  & -1.06402033\\\\\n",
       "\t -0.2383298  & -0.16452338 & -0.06644323 &  0.8031977  &  0.24023158\\\\\n",
       "\t  0.6432913  & -0.68475986 &  1.08717049 & -0.2651370  & -0.47342016\\\\\n",
       "\t -0.2223234  & -0.55217799 & -0.88665768 & -2.8323442  &  0.34636179\\\\\n",
       "\t  1.3025995  &  0.07825323 &  0.87398416 &  0.6662669  &  0.26255191\\\\\n",
       "\t  1.0534542  & -0.73374361 & -0.49068205 &  0.8270420  &  1.74396972\\\\\n",
       "\t  1.5414007  & -1.31346217 & -1.45189305 & -0.2259437  & -0.93702707\\\\\n",
       "\t  0.5303544  & -0.56322009 &  0.19311502 & -0.4569229  & -0.39525172\\\\\n",
       "\t  1.6249734  &  0.75303800 & -0.28527838 & -1.4902555  &  2.33114400\\\\\n",
       "\t -1.4334566  & -0.94998565 & -1.04798393 &  1.5523640  &  0.02462123\\\\\n",
       "\t  0.9746930  &  1.87063215 &  1.15501839 & -0.3778713  &  0.24675314\\\\\n",
       "\t -0.6411870  & -1.36600444 & -0.29345420 & -0.7048451  &  0.75230141\\\\\n",
       "\t -0.5059450  &  0.50337064 &  0.96659874 & -1.1468435  & -0.22876038\\\\\n",
       "\t  0.7666904  & -0.90457274 &  1.47479831 & -0.9279860  & -0.40572518\\\\\n",
       "\t  0.1342025  &  0.56583736 &  1.30377274 & -0.3660433  & -0.69076255\\\\\n",
       "\t -1.1674858  &  0.08727937 & -0.01176097 & -0.2969652  & -0.08446600\\\\\n",
       "\t -1.6979636  &  0.45599690 &  0.61013166 & -1.1171375  & -1.03274404\\\\\n",
       "\t -0.4302816  &  0.35800997 & -1.22710990 &  1.4501382  & -0.37254118\\\\\n",
       "\t -0.3574700  & -0.48776789 & -1.46351913 & -0.4289163  & -1.57893323\\\\\n",
       "\t -0.2112282  &  0.04435049 &  0.26308684 &  0.8356807  &  0.36670102\\\\\n",
       "\t ⋮ & ⋮ & ⋮ & ⋮ & ⋮\\\\\n",
       "\t -0.33338027  &  0.15004895  & -0.33645959  &  0.78694277  &  0.615559549\\\\\n",
       "\t -0.97937059  & -1.80555094  &  0.13350002  &  0.00986503  & -1.579221979\\\\\n",
       "\t  0.51062691  & -1.27023890  &  0.71324459  &  1.55449791  & -0.441503027\\\\\n",
       "\t -1.32727036  &  0.06958855  &  0.39831557  & -0.43896551  & -1.129968881\\\\\n",
       "\t  1.80911693  & -1.30570564  &  0.95534818  & -0.22531279  &  0.007373685\\\\\n",
       "\t  0.53505958  & -0.27282015  &  0.63407879  & -0.36400437  & -1.323452409\\\\\n",
       "\t  1.56053222  &  0.42169819  & -0.90790721  &  0.38043827  & -0.583314345\\\\\n",
       "\t -0.99059874  & -0.24985766  & -1.17510685  &  0.35721338  & -0.967309120\\\\\n",
       "\t -0.15091762  & -1.20711378  & -0.15352787  &  1.25445164  & -0.995120840\\\\\n",
       "\t  0.93158394  & -0.15002360  & -1.52973804  & -0.43050431  &  0.113549912\\\\\n",
       "\t -1.48866422  &  1.11673362  & -0.71153648  &  1.26079493  &  1.098809718\\\\\n",
       "\t -0.20726170  &  0.49669726  &  0.90747378  & -0.26013268  &  1.195288819\\\\\n",
       "\t -0.19884505  &  0.40360040  &  0.21727290  & -0.55122930  &  0.514742399\\\\\n",
       "\t  1.24745948  & -0.97172709  & -0.75129562  &  0.07008781  & -0.356408777\\\\\n",
       "\t  0.35068424  &  0.71207508  & -1.19560198  & -0.84799228  &  1.136791537\\\\\n",
       "\t  0.42466986  &  0.14944088  & -0.12456903  & -0.59042226  & -0.507059000\\\\\n",
       "\t  0.20820764  & -0.46735503  & -1.30953385  & -1.21105361  & -1.313691854\\\\\n",
       "\t -0.25310465  &  0.97963661  &  0.99639886  & -0.93711451  & -0.976649409\\\\\n",
       "\t  0.27246945  &  0.01161248  & -0.18389784  & -0.95210762  & -1.043278336\\\\\n",
       "\t  0.56340454  & -1.80236776  & -0.88568207  & -0.08334272  & -0.233850758\\\\\n",
       "\t  0.06343428  & -0.70748054  & -0.60738188  &  0.10302012  &  0.352394620\\\\\n",
       "\t -1.03111209  & -0.54873922  &  0.26304813  &  0.05939748  &  0.799770947\\\\\n",
       "\t  1.69193076  &  0.05284581  & -0.55697478  &  0.86522872  &  0.193404801\\\\\n",
       "\t -0.13698438  & -2.56487941  & -0.70432653  & -0.35648032  & -0.660003477\\\\\n",
       "\t -0.17663468  &  0.77219394  & -2.24285347  &  0.70447814  &  0.812609239\\\\\n",
       "\t  1.26627384  &  0.13982036  &  0.44007560  & -1.00597709  &  0.750367517\\\\\n",
       "\t  0.76270769  &  0.16953601  & -0.03769482  & -0.73347843  &  0.559003793\\\\\n",
       "\t -0.98514251  &  0.07485655  & -0.90837579  & -0.39844190  &  1.197633805\\\\\n",
       "\t -1.01844415  &  0.41231739  & -0.18836952  &  1.37671123  & -0.767577411\\\\\n",
       "\t -0.79626407  & -1.35804889  & -0.69387368  & -0.95258506  & -1.181880411\\\\\n",
       "\\end{tabular}\n"
      ],
      "text/markdown": [
       "\n",
       "| -1.8602899  | -0.21598372 | -0.82364399 | -2.1172429  |  2.12056468 | \n",
       "|  0.6907932  | -0.42917906 |  0.16338217 | -1.3307128  | -0.84364308 | \n",
       "|  0.6422796  | -1.06500675 | -1.06080617 | -1.1242589  |  0.94703364 | \n",
       "| -1.4834182  |  0.74086650 |  0.24145978 |  0.2877146  |  0.32896305 | \n",
       "| -0.1478364  |  0.34456818 |  1.96166631 | -0.8659266  | -0.49493325 | \n",
       "|  0.4161106  | -0.29505635 | -0.20112008 | -0.1613818  |  1.07011720 | \n",
       "|  0.6032979  | -0.74881877 |  0.61990285 |  0.9112314  | -1.58643643 | \n",
       "| -0.4708905  | -0.47501791 |  0.54633778 |  2.0599858  |  1.00349902 | \n",
       "| -0.1619230  | -0.54758735 | -0.31698923 | -0.0742030  | -1.67879150 | \n",
       "| -0.5992364  |  0.72272024 |  0.31026409 | -0.7979000  | -0.68770074 | \n",
       "|  0.1933045  |  1.17769753 |  0.39972451 |  0.8073914  | -1.06402033 | \n",
       "| -0.2383298  | -0.16452338 | -0.06644323 |  0.8031977  |  0.24023158 | \n",
       "|  0.6432913  | -0.68475986 |  1.08717049 | -0.2651370  | -0.47342016 | \n",
       "| -0.2223234  | -0.55217799 | -0.88665768 | -2.8323442  |  0.34636179 | \n",
       "|  1.3025995  |  0.07825323 |  0.87398416 |  0.6662669  |  0.26255191 | \n",
       "|  1.0534542  | -0.73374361 | -0.49068205 |  0.8270420  |  1.74396972 | \n",
       "|  1.5414007  | -1.31346217 | -1.45189305 | -0.2259437  | -0.93702707 | \n",
       "|  0.5303544  | -0.56322009 |  0.19311502 | -0.4569229  | -0.39525172 | \n",
       "|  1.6249734  |  0.75303800 | -0.28527838 | -1.4902555  |  2.33114400 | \n",
       "| -1.4334566  | -0.94998565 | -1.04798393 |  1.5523640  |  0.02462123 | \n",
       "|  0.9746930  |  1.87063215 |  1.15501839 | -0.3778713  |  0.24675314 | \n",
       "| -0.6411870  | -1.36600444 | -0.29345420 | -0.7048451  |  0.75230141 | \n",
       "| -0.5059450  |  0.50337064 |  0.96659874 | -1.1468435  | -0.22876038 | \n",
       "|  0.7666904  | -0.90457274 |  1.47479831 | -0.9279860  | -0.40572518 | \n",
       "|  0.1342025  |  0.56583736 |  1.30377274 | -0.3660433  | -0.69076255 | \n",
       "| -1.1674858  |  0.08727937 | -0.01176097 | -0.2969652  | -0.08446600 | \n",
       "| -1.6979636  |  0.45599690 |  0.61013166 | -1.1171375  | -1.03274404 | \n",
       "| -0.4302816  |  0.35800997 | -1.22710990 |  1.4501382  | -0.37254118 | \n",
       "| -0.3574700  | -0.48776789 | -1.46351913 | -0.4289163  | -1.57893323 | \n",
       "| -0.2112282  |  0.04435049 |  0.26308684 |  0.8356807  |  0.36670102 | \n",
       "| ⋮ | ⋮ | ⋮ | ⋮ | ⋮ | \n",
       "| -0.33338027  |  0.15004895  | -0.33645959  |  0.78694277  |  0.615559549 | \n",
       "| -0.97937059  | -1.80555094  |  0.13350002  |  0.00986503  | -1.579221979 | \n",
       "|  0.51062691  | -1.27023890  |  0.71324459  |  1.55449791  | -0.441503027 | \n",
       "| -1.32727036  |  0.06958855  |  0.39831557  | -0.43896551  | -1.129968881 | \n",
       "|  1.80911693  | -1.30570564  |  0.95534818  | -0.22531279  |  0.007373685 | \n",
       "|  0.53505958  | -0.27282015  |  0.63407879  | -0.36400437  | -1.323452409 | \n",
       "|  1.56053222  |  0.42169819  | -0.90790721  |  0.38043827  | -0.583314345 | \n",
       "| -0.99059874  | -0.24985766  | -1.17510685  |  0.35721338  | -0.967309120 | \n",
       "| -0.15091762  | -1.20711378  | -0.15352787  |  1.25445164  | -0.995120840 | \n",
       "|  0.93158394  | -0.15002360  | -1.52973804  | -0.43050431  |  0.113549912 | \n",
       "| -1.48866422  |  1.11673362  | -0.71153648  |  1.26079493  |  1.098809718 | \n",
       "| -0.20726170  |  0.49669726  |  0.90747378  | -0.26013268  |  1.195288819 | \n",
       "| -0.19884505  |  0.40360040  |  0.21727290  | -0.55122930  |  0.514742399 | \n",
       "|  1.24745948  | -0.97172709  | -0.75129562  |  0.07008781  | -0.356408777 | \n",
       "|  0.35068424  |  0.71207508  | -1.19560198  | -0.84799228  |  1.136791537 | \n",
       "|  0.42466986  |  0.14944088  | -0.12456903  | -0.59042226  | -0.507059000 | \n",
       "|  0.20820764  | -0.46735503  | -1.30953385  | -1.21105361  | -1.313691854 | \n",
       "| -0.25310465  |  0.97963661  |  0.99639886  | -0.93711451  | -0.976649409 | \n",
       "|  0.27246945  |  0.01161248  | -0.18389784  | -0.95210762  | -1.043278336 | \n",
       "|  0.56340454  | -1.80236776  | -0.88568207  | -0.08334272  | -0.233850758 | \n",
       "|  0.06343428  | -0.70748054  | -0.60738188  |  0.10302012  |  0.352394620 | \n",
       "| -1.03111209  | -0.54873922  |  0.26304813  |  0.05939748  |  0.799770947 | \n",
       "|  1.69193076  |  0.05284581  | -0.55697478  |  0.86522872  |  0.193404801 | \n",
       "| -0.13698438  | -2.56487941  | -0.70432653  | -0.35648032  | -0.660003477 | \n",
       "| -0.17663468  |  0.77219394  | -2.24285347  |  0.70447814  |  0.812609239 | \n",
       "|  1.26627384  |  0.13982036  |  0.44007560  | -1.00597709  |  0.750367517 | \n",
       "|  0.76270769  |  0.16953601  | -0.03769482  | -0.73347843  |  0.559003793 | \n",
       "| -0.98514251  |  0.07485655  | -0.90837579  | -0.39844190  |  1.197633805 | \n",
       "| -1.01844415  |  0.41231739  | -0.18836952  |  1.37671123  | -0.767577411 | \n",
       "| -0.79626407  | -1.35804889  | -0.69387368  | -0.95258506  | -1.181880411 | \n",
       "\n",
       "\n"
      ],
      "text/plain": [
       "      [,1]        [,2]        [,3]        [,4]        [,5]        \n",
       " [1,] -1.8602899  -0.21598372 -0.82364399 -2.1172429   2.12056468 \n",
       " [2,]  0.6907932  -0.42917906  0.16338217 -1.3307128  -0.84364308 \n",
       " [3,]  0.6422796  -1.06500675 -1.06080617 -1.1242589   0.94703364 \n",
       " [4,] -1.4834182   0.74086650  0.24145978  0.2877146   0.32896305 \n",
       " [5,] -0.1478364   0.34456818  1.96166631 -0.8659266  -0.49493325 \n",
       " [6,]  0.4161106  -0.29505635 -0.20112008 -0.1613818   1.07011720 \n",
       " [7,]  0.6032979  -0.74881877  0.61990285  0.9112314  -1.58643643 \n",
       " [8,] -0.4708905  -0.47501791  0.54633778  2.0599858   1.00349902 \n",
       " [9,] -0.1619230  -0.54758735 -0.31698923 -0.0742030  -1.67879150 \n",
       "[10,] -0.5992364   0.72272024  0.31026409 -0.7979000  -0.68770074 \n",
       "[11,]  0.1933045   1.17769753  0.39972451  0.8073914  -1.06402033 \n",
       "[12,] -0.2383298  -0.16452338 -0.06644323  0.8031977   0.24023158 \n",
       "[13,]  0.6432913  -0.68475986  1.08717049 -0.2651370  -0.47342016 \n",
       "[14,] -0.2223234  -0.55217799 -0.88665768 -2.8323442   0.34636179 \n",
       "[15,]  1.3025995   0.07825323  0.87398416  0.6662669   0.26255191 \n",
       "[16,]  1.0534542  -0.73374361 -0.49068205  0.8270420   1.74396972 \n",
       "[17,]  1.5414007  -1.31346217 -1.45189305 -0.2259437  -0.93702707 \n",
       "[18,]  0.5303544  -0.56322009  0.19311502 -0.4569229  -0.39525172 \n",
       "[19,]  1.6249734   0.75303800 -0.28527838 -1.4902555   2.33114400 \n",
       "[20,] -1.4334566  -0.94998565 -1.04798393  1.5523640   0.02462123 \n",
       "[21,]  0.9746930   1.87063215  1.15501839 -0.3778713   0.24675314 \n",
       "[22,] -0.6411870  -1.36600444 -0.29345420 -0.7048451   0.75230141 \n",
       "[23,] -0.5059450   0.50337064  0.96659874 -1.1468435  -0.22876038 \n",
       "[24,]  0.7666904  -0.90457274  1.47479831 -0.9279860  -0.40572518 \n",
       "[25,]  0.1342025   0.56583736  1.30377274 -0.3660433  -0.69076255 \n",
       "[26,] -1.1674858   0.08727937 -0.01176097 -0.2969652  -0.08446600 \n",
       "[27,] -1.6979636   0.45599690  0.61013166 -1.1171375  -1.03274404 \n",
       "[28,] -0.4302816   0.35800997 -1.22710990  1.4501382  -0.37254118 \n",
       "[29,] -0.3574700  -0.48776789 -1.46351913 -0.4289163  -1.57893323 \n",
       "[30,] -0.2112282   0.04435049  0.26308684  0.8356807   0.36670102 \n",
       "[31,] ⋮           ⋮           ⋮           ⋮           ⋮           \n",
       "[32,] -0.33338027  0.15004895 -0.33645959  0.78694277  0.615559549\n",
       "[33,] -0.97937059 -1.80555094  0.13350002  0.00986503 -1.579221979\n",
       "[34,]  0.51062691 -1.27023890  0.71324459  1.55449791 -0.441503027\n",
       "[35,] -1.32727036  0.06958855  0.39831557 -0.43896551 -1.129968881\n",
       "[36,]  1.80911693 -1.30570564  0.95534818 -0.22531279  0.007373685\n",
       "[37,]  0.53505958 -0.27282015  0.63407879 -0.36400437 -1.323452409\n",
       "[38,]  1.56053222  0.42169819 -0.90790721  0.38043827 -0.583314345\n",
       "[39,] -0.99059874 -0.24985766 -1.17510685  0.35721338 -0.967309120\n",
       "[40,] -0.15091762 -1.20711378 -0.15352787  1.25445164 -0.995120840\n",
       "[41,]  0.93158394 -0.15002360 -1.52973804 -0.43050431  0.113549912\n",
       "[42,] -1.48866422  1.11673362 -0.71153648  1.26079493  1.098809718\n",
       "[43,] -0.20726170  0.49669726  0.90747378 -0.26013268  1.195288819\n",
       "[44,] -0.19884505  0.40360040  0.21727290 -0.55122930  0.514742399\n",
       "[45,]  1.24745948 -0.97172709 -0.75129562  0.07008781 -0.356408777\n",
       "[46,]  0.35068424  0.71207508 -1.19560198 -0.84799228  1.136791537\n",
       "[47,]  0.42466986  0.14944088 -0.12456903 -0.59042226 -0.507059000\n",
       "[48,]  0.20820764 -0.46735503 -1.30953385 -1.21105361 -1.313691854\n",
       "[49,] -0.25310465  0.97963661  0.99639886 -0.93711451 -0.976649409\n",
       "[50,]  0.27246945  0.01161248 -0.18389784 -0.95210762 -1.043278336\n",
       "[51,]  0.56340454 -1.80236776 -0.88568207 -0.08334272 -0.233850758\n",
       "[52,]  0.06343428 -0.70748054 -0.60738188  0.10302012  0.352394620\n",
       "[53,] -1.03111209 -0.54873922  0.26304813  0.05939748  0.799770947\n",
       "[54,]  1.69193076  0.05284581 -0.55697478  0.86522872  0.193404801\n",
       "[55,] -0.13698438 -2.56487941 -0.70432653 -0.35648032 -0.660003477\n",
       "[56,] -0.17663468  0.77219394 -2.24285347  0.70447814  0.812609239\n",
       "[57,]  1.26627384  0.13982036  0.44007560 -1.00597709  0.750367517\n",
       "[58,]  0.76270769  0.16953601 -0.03769482 -0.73347843  0.559003793\n",
       "[59,] -0.98514251  0.07485655 -0.90837579 -0.39844190  1.197633805\n",
       "[60,] -1.01844415  0.41231739 -0.18836952  1.37671123 -0.767577411\n",
       "[61,] -0.79626407 -1.35804889 -0.69387368 -0.95258506 -1.181880411"
      ]
     },
     "metadata": {},
     "output_type": "display_data"
    }
   ],
   "source": [
    "x = matrix(nrow=10000, ncol=5)\n",
    "for (i in c(0:10000)) {\n",
    "    x[i,] = rnorm(n=5, mean=0, sd=1)\n",
    "}\n",
    "x"
   ]
  },
  {
   "cell_type": "markdown",
   "metadata": {},
   "source": [
    "#### (b) Calculate the p-value for each sample (remember, the p-value is calculated assuming the null hypothsis is true). Print a histogram of these p-values. What does the distribution look like?"
   ]
  },
  {
   "cell_type": "code",
   "execution_count": 23,
   "metadata": {},
   "outputs": [
    {
     "data": {
      "text/html": [
       "'This distribution looks uniform with a linear slope upwards to the right'"
      ],
      "text/latex": [
       "'This distribution looks uniform with a linear slope upwards to the right'"
      ],
      "text/markdown": [
       "'This distribution looks uniform with a linear slope upwards to the right'"
      ],
      "text/plain": [
       "[1] \"This distribution looks uniform with a linear slope upwards to the right\""
      ]
     },
     "metadata": {},
     "output_type": "display_data"
    },
    {
     "data": {
      "image/png": "[encoded data removed]",
      "text/plain": [
       "Plot with title “Histogram of pvalues”"
      ]
     },
     "metadata": {},
     "output_type": "display_data"
    }
   ],
   "source": [
    "pvalues = matrix(nrow=10000, ncol=1)\n",
    "\n",
    "for (i in c(0:10000)) {\n",
    "    xbar = sum(x[i])/5\n",
    "    z = (xbar - 0)/(1 / sqrt(5))\n",
    "    pvalues[i] = pnorm(-abs(z))\n",
    "}\n",
    "\n",
    "hist(pvalues)\n",
    "\"This distribution looks uniform with a linear slope upwards to the right\""
   ]
  },
  {
   "cell_type": "markdown",
   "metadata": {},
   "source": [
    "#### (c) Suppose $\\alpha = 0.05$. What is the percentage of p-values that are less than 0.05? How often, in this scenario, would you make a type I error? Does the answer that theory suggests match (roughly) the answer the simulation suggests?"
   ]
  },
  {
   "cell_type": "code",
   "execution_count": 30,
   "metadata": {},
   "outputs": [
    {
     "data": {
      "text/html": [
       "'0.03 % chance of type 1 error'"
      ],
      "text/latex": [
       "'0.03 \\% chance of type 1 error'"
      ],
      "text/markdown": [
       "'0.03 % chance of type 1 error'"
      ],
      "text/plain": [
       "[1] \"0.03 % chance of type 1 error\""
      ]
     },
     "metadata": {},
     "output_type": "display_data"
    },
    {
     "data": {
      "text/html": [
       "'Yes, the theory matches the simulated answer'"
      ],
      "text/latex": [
       "'Yes, the theory matches the simulated answer'"
      ],
      "text/markdown": [
       "'Yes, the theory matches the simulated answer'"
      ],
      "text/plain": [
       "[1] \"Yes, the theory matches the simulated answer\""
      ]
     },
     "metadata": {},
     "output_type": "display_data"
    }
   ],
   "source": [
    "error = length(pvalues[pvalues <= 0.05])/length(pvalues)\n",
    "paste(error*100, \"% chance of type 1 error\")\n",
    "\"Yes, the theory matches the simulated answer\""
   ]
  },
  {
   "cell_type": "markdown",
   "metadata": {},
   "source": [
    "#### (d) Now, considering the same test, i.e.,  $H_0: \\mu = 0$ vs. $H_1: \\mu = 0.8$, simulate data under the alternative. Calculate the p-values for each sample (remember, the p-value is calculated assuming the null hypothsis is true). Print a histogram of these p-values. What does the distribution look like?"
   ]
  },
  {
   "cell_type": "code",
   "execution_count": 46,
   "metadata": {
    "scrolled": false
   },
   "outputs": [
    {
     "data": {
      "text/html": [
       "'The distibution is flipped and appears as an inverse curve'"
      ],
      "text/latex": [
       "'The distibution is flipped and appears as an inverse curve'"
      ],
      "text/markdown": [
       "'The distibution is flipped and appears as an inverse curve'"
      ],
      "text/plain": [
       "[1] \"The distibution is flipped and appears as an inverse curve\""
      ]
     },
     "metadata": {},
     "output_type": "display_data"
    },
    {
     "data": {
      "image/png": "[encoded data removed]",
      "text/plain": [
       "Plot with title “Histogram of pvalues”"
      ]
     },
     "metadata": {},
     "output_type": "display_data"
    }
   ],
   "source": [
    "y = matrix(nrow=10000, ncol=5)\n",
    "for (i in c(0:10000)) {\n",
    "    y[i,] = rnorm(n=5, mean=0, sd=1)\n",
    "}\n",
    "\n",
    "pvalues = matrix(nrow=10000, ncol=1)\n",
    "\n",
    "for (i in c(0:10000)) {\n",
    "    ybar = sum(y[i])/5\n",
    "    z = (ybar - 0.8)/(1 / sqrt(5))\n",
    "    pvalues[i] = pnorm(-abs(z))\n",
    "}\n",
    "\n",
    "hist(pvalues)\n",
    "\"The distibution is flipped and appears as an inverse curve\""
   ]
  },
  {
   "cell_type": "markdown",
   "metadata": {},
   "source": [
    "#### (e) Suppose $\\alpha = 0.05$. What is the percentage of p-values that are greater than 0.05? How often, in this scenario, would you make a type II error?"
   ]
  },
  {
   "cell_type": "code",
   "execution_count": 47,
   "metadata": {},
   "outputs": [
    {
     "data": {
      "text/html": [
       "'37.87 %'"
      ],
      "text/latex": [
       "'37.87 \\%'"
      ],
      "text/markdown": [
       "'37.87 %'"
      ],
      "text/plain": [
       "[1] \"37.87 %\""
      ]
     },
     "metadata": {},
     "output_type": "display_data"
    },
    {
     "data": {
      "text/html": [
       "'You would make a type ii error about 38% of the time'"
      ],
      "text/latex": [
       "'You would make a type ii error about 38\\% of the time'"
      ],
      "text/markdown": [
       "'You would make a type ii error about 38% of the time'"
      ],
      "text/plain": [
       "[1] \"You would make a type ii error about 38% of the time\""
      ]
     },
     "metadata": {},
     "output_type": "display_data"
    }
   ],
   "source": [
    "error2 = length(pvalues[pvalues >= 0.05])/length(pvalues)\n",
    "paste(error2*100, \"%\")\n",
    "\"You would make a type ii error about 38% of the time\""
   ]
  },
  {
   "cell_type": "markdown",
   "metadata": {},
   "source": [
    "#### (f) The ${\\bf power}$ of a test is $1 - P(\\text{Type II Error})$. That is, the power of a hypothesis test is the probability of rejecting $H_0$ when $H_1$ is true. (High powered tests are desirable!) Calculate the power of this test."
   ]
  },
  {
   "cell_type": "code",
   "execution_count": 48,
   "metadata": {},
   "outputs": [
    {
     "data": {
      "text/html": [
       "62.13"
      ],
      "text/latex": [
       "62.13"
      ],
      "text/markdown": [
       "62.13"
      ],
      "text/plain": [
       "[1] 62.13"
      ]
     },
     "metadata": {},
     "output_type": "display_data"
    }
   ],
   "source": [
    "(1 - error2)* 100"
   ]
  },
  {
   "cell_type": "markdown",
   "metadata": {},
   "source": [
    "#### (g) How could you increase the power of the test? Verify your answer through simulation by changing values from above."
   ]
  },
  {
   "cell_type": "code",
   "execution_count": 49,
   "metadata": {},
   "outputs": [
    {
     "data": {
      "text/html": [
       "'You could increase the power of the test by changing the desired outcome in your alternate hypothesis to a higher value. This skews the distribution of p values to the right, thus decreasing the chance of a type ii error'"
      ],
      "text/latex": [
       "'You could increase the power of the test by changing the desired outcome in your alternate hypothesis to a higher value. This skews the distribution of p values to the right, thus decreasing the chance of a type ii error'"
      ],
      "text/markdown": [
       "'You could increase the power of the test by changing the desired outcome in your alternate hypothesis to a higher value. This skews the distribution of p values to the right, thus decreasing the chance of a type ii error'"
      ],
      "text/plain": [
       "[1] \"You could increase the power of the test by changing the desired outcome in your alternate hypothesis to a higher value. This skews the distribution of p values to the right, thus decreasing the chance of a type ii error\""
      ]
     },
     "metadata": {},
     "output_type": "display_data"
    }
   ],
   "source": [
    "\"You could increase the power of the test by changing the desired outcome in your alternate hypothesis to a higher value. This skews the distribution of p values to the right, thus decreasing the chance of a type ii error\""
   ]
  },
  {
   "cell_type": "markdown",
   "metadata": {},
   "source": [
    "## Problem 3\n",
    "\n",
    "\n",
    "\n",
    "Analysis of a random sample consisting of 20 specimens of cold-rolled steel to determine yield strengths resulted in a sample average strength of 29.8 ksi. A second random sample of 25 two-sided galvanized steel specimens gave a sample average strength of 34.7 ski.\n",
    "\n",
    "Assuming that the two yield-strength distributions are normal with $\\sigma_1 = 4.0$ and $\\sigma_2 = 5.0$, does the data indicate that the corresponding true average yield strengths $\\mu_1$ and $\\mu_2$ are different? \n",
    "\n",
    "Conduct the test at significance level  $\\alpha = 0.01$.\n"
   ]
  },
  {
   "cell_type": "markdown",
   "metadata": {},
   "source": [
    "### Note that H_0: $\\mu_1 - \\mu_2 = 0$,  H_1: $\\mu_1 - \\mu_2 \\ne 0$. This is a two-tailed test."
   ]
  },
  {
   "cell_type": "code",
   "execution_count": 40,
   "metadata": {},
   "outputs": [
    {
     "data": {
      "text/html": [
       "<span style=white-space:pre-wrap>'3.65224436324966  &gt;  2.57'</span>"
      ],
      "text/latex": [
       "'3.65224436324966  >  2.57'"
      ],
      "text/markdown": [
       "<span style=white-space:pre-wrap>'3.65224436324966  &gt;  2.57'</span>"
      ],
      "text/plain": [
       "[1] \"3.65224436324966  >  2.57\""
      ]
     },
     "metadata": {},
     "output_type": "display_data"
    },
    {
     "data": {
      "text/html": [
       "'Decision: reject H0'"
      ],
      "text/latex": [
       "'Decision: reject H0'"
      ],
      "text/markdown": [
       "'Decision: reject H0'"
      ],
      "text/plain": [
       "[1] \"Decision: reject H0\""
      ]
     },
     "metadata": {},
     "output_type": "display_data"
    },
    {
     "data": {
      "text/html": [
       "'Mu1 and Mu2 are different'"
      ],
      "text/latex": [
       "'Mu1 and Mu2 are different'"
      ],
      "text/markdown": [
       "'Mu1 and Mu2 are different'"
      ],
      "text/plain": [
       "[1] \"Mu1 and Mu2 are different\""
      ]
     },
     "metadata": {},
     "output_type": "display_data"
    }
   ],
   "source": [
    "z0.01 = 2.57\n",
    "n1 = 20\n",
    "xbar = 29.8\n",
    "sd1 = 4\n",
    "n2 = 25\n",
    "ybar = 34.7\n",
    "sd2 = 5\n",
    "\n",
    "z = (ybar - xbar)/(sqrt((sd1^2 / n1)+(sd2^2 / n2)))\n",
    "paste(z, \" > \", z0.01)\n",
    "\"Decision: reject H0\"\n",
    "\"Mu1 and Mu2 are different\""
   ]
  },
  {
   "cell_type": "markdown",
   "metadata": {},
   "source": [
    "## Problem 4\n",
    "\n",
    "Simulate random numbers from an F-distribution with $v_1 = 30$ and $v_2 = 15$. Overlay the theoretical probability distribution. What is the F distribution used to test?"
   ]
  },
  {
   "cell_type": "code",
   "execution_count": 71,
   "metadata": {},
   "outputs": [
    {
     "data": {
      "text/html": [
       "'The F distibution is used to test the equality of two variances'"
      ],
      "text/latex": [
       "'The F distibution is used to test the equality of two variances'"
      ],
      "text/markdown": [
       "'The F distibution is used to test the equality of two variances'"
      ],
      "text/plain": [
       "[1] \"The F distibution is used to test the equality of two variances\""
      ]
     },
     "metadata": {},
     "output_type": "display_data"
    },
    {
     "data": {
      "image/png": "[encoded data removed]",
      "text/plain": [
       "Plot with title “density.default(x = rf(n = 5000, df1 = 30, df2 = 15))”"
      ]
     },
     "metadata": {},
     "output_type": "display_data"
    }
   ],
   "source": [
    "f = density(rf(n=5000, df1=30, df2=15))\n",
    "plot(f)\n",
    "\"The F distibution is used to test the equality of two variances\""
   ]
  },
  {
   "cell_type": "markdown",
   "metadata": {},
   "source": [
    "## Problem 5 (Extra Practice)\n",
    "\n",
    "Suppose a company is considering putting a new type of coating on bearings that it produces. Let    denote the true mean life for the new coating. The company would not want to make any (costly) changes unless evidence strongly suggested that  exceeds 1000 hours. \n",
    "\n",
    "#### State the null and alternative hypotheses. Then, supposing the company tests $n = 25$ randomly selected bearings with the new coating and finds that the sample mean for life of the new coating is 1090 hours. Further, suppose that we know the population standard deviation is 130 hours. Conduct a test for the population mean."
   ]
  },
  {
   "cell_type": "code",
   "execution_count": null,
   "metadata": {
    "collapsed": true
   },
   "outputs": [],
   "source": []
  },
  {
   "cell_type": "markdown",
   "metadata": {},
   "source": [
    "## Problem 6 (Extra Practice)\n",
    "\n",
    "An inventor has developed a new, energy-efficient lawn mower engine. He claims that the engine will run continuously for more than 5 hours (300 minutes) on a single gallon of regular gasoline. (The leading brand lawnmower engine runs for 300 minutes on 1 gallon of gasoline.)\n",
    "From his stock of engines, the inventor selects a simple random sample of 50 engines for testing. The engines run for an average of 305 minutes. The true standard deviation, $sigma$, is known and is equal to 30 minutes, and the run times of the engines are normally distributed.\n",
    "\n",
    "#### Test hypothesis that the mean run time is more than 300 minutes. Use a 0.01 level of significance. "
   ]
  },
  {
   "cell_type": "code",
   "execution_count": null,
   "metadata": {
    "collapsed": true
   },
   "outputs": [],
   "source": []
  },
  {
   "cell_type": "markdown",
   "metadata": {},
   "source": [
    "## Problem 7 (Extra Practice) \n",
    "\n",
    "The Brinell scale is a measure of how hard a material is.  An engineer hypothesizes that the mean Brinell score of all subcritically annealed ductile iron pieces is not equal to 170.  It is known that these scores follow a normal distribution.\n",
    "\n",
    "The engineer measured the Brinell score of 25 pieces of this type of iron and calculated the sample mean to be 174.52 and the sample standard deviation to be 10.31.\n",
    "\n",
    "#### Perform a hypothesis test that the true average Brinell score is not equal to 170, as well as the corresponding confidence interval.  Set $\\alpha = 0.01.$\n"
   ]
  },
  {
   "cell_type": "code",
   "execution_count": null,
   "metadata": {
    "collapsed": true
   },
   "outputs": [],
   "source": []
  }
 ],
 "metadata": {
  "kernelspec": {
   "display_name": "R",
   "language": "R",
   "name": "ir"
  },
  "language_info": {
   "codemirror_mode": "r",
   "file_extension": ".r",
   "mimetype": "text/x-r-source",
   "name": "R",
   "pygments_lexer": "r",
   "version": "3.4.2"
  }
 },
 "nbformat": 4,
 "nbformat_minor": 2
}
