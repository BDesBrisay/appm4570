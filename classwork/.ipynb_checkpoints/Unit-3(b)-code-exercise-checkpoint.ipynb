{
 "cells": [
  {
   "cell_type": "markdown",
   "metadata": {},
   "source": [
    "# Unit #3 (b) Code"
   ]
  },
  {
   "cell_type": "markdown",
   "metadata": {},
   "source": [
    "# Problem 1\n",
    "\n",
    "#### Use ${\\tt dexp()}$ to plot--in separate panes of a single window--the pdf of an exponential distribution for $\\lambda \\in \\{1, 2, 5, 7\\}$. More concretely, create an array consisting of elements $1,2,5,7$. Then, generate a grid of $x$ values between 0 and 12 (with, say, 1000 points). Then, calculate the pdf of the exponential at each $x$ value, and plot."
   ]
  },
  {
   "cell_type": "code",
   "execution_count": 5,
   "metadata": {},
   "outputs": [
    {
     "data": {
      "image/png": "[encoded data removed]",
      "text/plain": [
       "plot without title"
      ]
     },
     "metadata": {},
     "output_type": "display_data"
    }
   ],
   "source": [
    "lamb = c(1,2,5,7)\n",
    "n = 1000\n",
    "x = seq(0, 15, length.out = n)\n",
    "y = matrix(data=NA, ncol=4, nrow=n)\n",
    "\n",
    "par(mfrow = c(2,2))\n",
    "for (i in 1:4) {\n",
    "    y[,i] = dexp(x,lamb[i])\n",
    "    plot(x, y[,i], type=\"l\")\n",
    "}\n"
   ]
  },
  {
   "cell_type": "markdown",
   "metadata": {},
   "source": [
    "Note that you can plot other pdfs, cdfs, such as: ${\\tt dbeta(), dnorm(), \\text{ or } dunif(),}$."
   ]
  },
  {
   "cell_type": "markdown",
   "metadata": {},
   "source": [
    "# Problem 2\n",
    "Monte Carlo Estimation of $\\pi$.\n",
    "\n",
    "#### (a) Generate two vectors of uniform (-1, 1) random numbers. Call them $x$ and $y$. Find the first quartile and 30th percentile of $X \\sim U(-1,1)$ (use ${\\tt qunif()}$)."
   ]
  },
  {
   "cell_type": "code",
   "execution_count": 9,
   "metadata": {},
   "outputs": [
    {
     "data": {
      "text/html": [
       "-0.5"
      ],
      "text/latex": [
       "-0.5"
      ],
      "text/markdown": [
       "-0.5"
      ],
      "text/plain": [
       "[1] -0.5"
      ]
     },
     "metadata": {},
     "output_type": "display_data"
    },
    {
     "data": {
      "text/html": [
       "-0.4"
      ],
      "text/latex": [
       "-0.4"
      ],
      "text/markdown": [
       "-0.4"
      ],
      "text/plain": [
       "[1] -0.4"
      ]
     },
     "metadata": {},
     "output_type": "display_data"
    },
    {
     "data": {
      "text/html": [
       "<strong>25%:</strong> -0.502791966311634"
      ],
      "text/latex": [
       "\\textbf{25\\textbackslash{}\\%:} -0.502791966311634"
      ],
      "text/markdown": [
       "**25%:** -0.502791966311634"
      ],
      "text/plain": [
       "      25% \n",
       "-0.502792 "
      ]
     },
     "metadata": {},
     "output_type": "display_data"
    },
    {
     "data": {
      "text/html": [
       "<strong>30%:</strong> -0.399825662467629"
      ],
      "text/latex": [
       "\\textbf{30\\textbackslash{}\\%:} -0.399825662467629"
      ],
      "text/markdown": [
       "**30%:** -0.399825662467629"
      ],
      "text/plain": [
       "       30% \n",
       "-0.3998257 "
      ]
     },
     "metadata": {},
     "output_type": "display_data"
    }
   ],
   "source": [
    "y = runif(10000, min=-1, max=1)\n",
    "x = runif(10000, min=-1, max=1)\n",
    "\n",
    "q1 = qunif(0.25, min=-1, max=1)\n",
    "p30 = qunif(0.3, min=-1, max=1)\n",
    "\n",
    "q1\n",
    "p30\n",
    "\n",
    "quantile(x, probs=0.25)\n",
    "quantile(x, probs=0.3)"
   ]
  },
  {
   "cell_type": "markdown",
   "metadata": {},
   "source": [
    "#### (b) Create a vector of logicals, called incircle,that is equal to True if $x^2 + y^2 \\le 1^2$ and False otherwise (for the x and y generated in (a))."
   ]
  },
  {
   "cell_type": "code",
   "execution_count": 10,
   "metadata": {
    "collapsed": true
   },
   "outputs": [],
   "source": [
    "incircle = x^2 + y^2 <= 1"
   ]
  },
  {
   "cell_type": "markdown",
   "metadata": {},
   "source": [
    "#### (c) Calculate the number of values of incircle that are equal to true (sum(incircle) will work). Use this value to estimate $\\pi$. Describe why this works."
   ]
  },
  {
   "cell_type": "code",
   "execution_count": 11,
   "metadata": {},
   "outputs": [
    {
     "data": {
      "text/html": [
       "31.348"
      ],
      "text/latex": [
       "31.348"
      ],
      "text/markdown": [
       "31.348"
      ],
      "text/plain": [
       "[1] 31.348"
      ]
     },
     "metadata": {},
     "output_type": "display_data"
    }
   ],
   "source": [
    "pi = (sum(incircle)/n)*4\n",
    "pi\n",
    "# This works because we are taking the ratio of how many points from the square that fall into the circle \n",
    "# and multiplying it by 4 so we get the (estimated) value of pi\n",
    "\n",
    "#plot(x,y)"
   ]
  },
  {
   "cell_type": "markdown",
   "metadata": {},
   "source": []
  },
  {
   "cell_type": "markdown",
   "metadata": {
    "collapsed": true
   },
   "source": [
    "#### (d) How could you use this to estimate the area of a circle with radius 2 centered at the origin?"
   ]
  },
  {
   "cell_type": "markdown",
   "metadata": {
    "collapsed": true
   },
   "source": []
  },
  {
   "cell_type": "code",
   "execution_count": null,
   "metadata": {
    "collapsed": true
   },
   "outputs": [],
   "source": []
  }
 ],
 "metadata": {
  "kernelspec": {
   "display_name": "R",
   "language": "R",
   "name": "ir"
  },
  "language_info": {
   "codemirror_mode": "r",
   "file_extension": ".r",
   "mimetype": "text/x-r-source",
   "name": "R",
   "pygments_lexer": "r",
   "version": "3.4.2"
  }
 },
 "nbformat": 4,
 "nbformat_minor": 2
}
