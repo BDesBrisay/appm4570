{
 "cells": [
  {
   "cell_type": "markdown",
   "metadata": {},
   "source": [
    "# Homework #7: Computational\n",
    "*All computations should be done in this notebook using the R kernel. Working in small groups is allowed, but it is important that you make an effort to master the material and hand in your own work.*\n",
    "\n",
    "#### You will be required to submit this notebook, fully compiled with your solutions, as an HTML or ipynb file to Canvas by 2pm on Friday, March 23."
   ]
  },
  {
   "cell_type": "markdown",
   "metadata": {},
   "source": [
    "## Problem 1\n",
    "\n",
    "Load ${\\tt hubble.txt}$ into R. A description of the variables can be obtained from page 73 of https://cran.r-project.org/web/packages/gamair/gamair.pdf."
   ]
  },
  {
   "cell_type": "code",
   "execution_count": null,
   "metadata": {},
   "outputs": [],
   "source": [
    "table = table.read()"
   ]
  },
  {
   "cell_type": "markdown",
   "metadata": {},
   "source": [
    "#### (a) Calculate the 85% confidence interval for the mean of a galaxy's distance from Earth in Mega parsecs in R by doing the computation explicitly."
   ]
  },
  {
   "cell_type": "code",
   "execution_count": null,
   "metadata": {
    "collapsed": true
   },
   "outputs": [],
   "source": []
  },
  {
   "cell_type": "markdown",
   "metadata": {},
   "source": [
    "#### (b) Can you find a built in R function that does this computation automatically? "
   ]
  },
  {
   "cell_type": "code",
   "execution_count": null,
   "metadata": {
    "collapsed": true
   },
   "outputs": [],
   "source": []
  },
  {
   "cell_type": "markdown",
   "metadata": {},
   "source": [
    "#### (c) Interpret the confidence interval."
   ]
  },
  {
   "cell_type": "markdown",
   "metadata": {},
   "source": []
  },
  {
   "cell_type": "markdown",
   "metadata": {},
   "source": [
    "## Problem 2\n",
    "\n",
    "#### Simulate $m = 1,000$ $85\\%$ confidence intervals for a population proportion $p$ (using the confidence interval formula that we derived in class). Use this simulation to justify the interpretation of this confidence interval."
   ]
  },
  {
   "cell_type": "code",
   "execution_count": null,
   "metadata": {
    "collapsed": true
   },
   "outputs": [],
   "source": []
  },
  {
   "cell_type": "markdown",
   "metadata": {},
   "source": [
    "## Problem 3\n",
    "\n",
    "We might be interested in computing confidence intervals for parameters other than a mean, $\\mu$, proportion, $p$, etc. For many of these parameters, standard statistical theory will not help. In this problem, we will compute a 95% confidence interval for the rate parameter of an exponential distribution. \n",
    "\n",
    "A theoretical model suggests that $X$, the time to breakdown of an insulating fluid between electrodes at a particular voltage, has an exponential distribution: $f(x; \\lambda) = \\lambda e^{-\\lambda x}$. A random sample of $n = 10$ breakdown times (minutes) is given here:\n",
    "\n",
    "$$\n",
    "41.53, 18.73, 2.99, 30.34, 12.33, 117.52, 73.02, 223.63, 4, 26.78.\n",
    "$$\n",
    "\n",
    "#### (a)  Construct a matrix of $B = 10,000$ rows, where each row is a sample of size 10 (sampled with replacement) from the above 10 numbers. (HINT: use the sample function in R.) \n"
   ]
  },
  {
   "cell_type": "code",
   "execution_count": null,
   "metadata": {
    "collapsed": true
   },
   "outputs": [],
   "source": []
  },
  {
   "cell_type": "markdown",
   "metadata": {},
   "source": [
    "#### (b) From each of the $B$ samples, compute a reasonable estimate of $\\lambda$ (HINT: How is $\\lambda$ related to the mean of an exponential?). Call this estimator $\\widehat{\\lambda}$.\n"
   ]
  },
  {
   "cell_type": "code",
   "execution_count": null,
   "metadata": {
    "collapsed": true
   },
   "outputs": [],
   "source": []
  },
  {
   "cell_type": "markdown",
   "metadata": {},
   "source": [
    "#### (c) You now have a sample from the *distribution* of the estimator $\\widehat{\\lambda}$. Construct a histogram and comment on the distribution.\n"
   ]
  },
  {
   "cell_type": "code",
   "execution_count": null,
   "metadata": {},
   "outputs": [],
   "source": []
  },
  {
   "cell_type": "markdown",
   "metadata": {},
   "source": [
    "#### (d) Use the quantile function in R to find the 2.5 percentile and the 97.5 percentile. This is a bootstrap confidence interval for $\\lambda$.\n"
   ]
  },
  {
   "cell_type": "code",
   "execution_count": null,
   "metadata": {
    "collapsed": true
   },
   "outputs": [],
   "source": []
  }
 ],
 "metadata": {
  "kernelspec": {
   "display_name": "R",
   "language": "R",
   "name": "ir"
  },
  "language_info": {
   "codemirror_mode": "r",
   "file_extension": ".r",
   "mimetype": "text/x-r-source",
   "name": "R",
   "pygments_lexer": "r",
   "version": "3.4.2"
  }
 },
 "nbformat": 4,
 "nbformat_minor": 2
}
