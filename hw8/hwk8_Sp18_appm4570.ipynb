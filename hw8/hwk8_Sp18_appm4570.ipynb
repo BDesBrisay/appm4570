{
 "cells": [
  {
   "cell_type": "markdown",
   "metadata": {},
   "source": [
    "# Homework #8: Computational\n",
    "*All computations should be done in this notebook using the R kernel. Working in small groups is allowed, but it is important that you make an effort to master the material and hand in your own work.*\n",
    "\n",
    "#### You will be required to submit this notebook, fully compiled with your solutions, as an HTML or ipynb file to Canvas by midnight on Friday, April 13."
   ]
  },
  {
   "cell_type": "markdown",
   "metadata": {},
   "source": [
    "## Problem 1\n",
    "\n",
    "Let $X$ be the number of heads in $n = 30$ tosses of a coin. Denote the probability of heads as $p$. We hope to test whether the coin is biased toward heads. \n",
    "\n",
    "#### (a) Explicitly write out the null and alternative hypotheses.\n"
   ]
  },
  {
   "cell_type": "markdown",
   "metadata": {
    "collapsed": true
   },
   "source": [
    "null: p <= 0.5\n",
    "alternate: p > 0.5"
   ]
  },
  {
   "cell_type": "markdown",
   "metadata": {},
   "source": [
    "#### (b) Define the rejection region to be  $X \\ge 20$.  Calculate the rate of type I error. (**For this part, and all remaining parts, calculate probabilities exactly, i.e., without using the normal approximation**)\n"
   ]
  },
  {
   "cell_type": "code",
   "execution_count": 20,
   "metadata": {},
   "outputs": [
    {
     "data": {
      "text/html": [
       "0.3531"
      ],
      "text/latex": [
       "0.3531"
      ],
      "text/markdown": [
       "0.3531"
      ],
      "text/plain": [
       "[1] 0.3531"
      ]
     },
     "metadata": {},
     "output_type": "display_data"
    }
   ],
   "source": [
    "x = matrix(ncol=1, nrow=10000)\n",
    "for (i in c(0:10000)) {\n",
    "    sample = sample(c(0:30), size=1, replace=FALSE)\n",
    "    x[i] = sample\n",
    "}\n",
    "cutoff = x[x >= 20]\n",
    "length(cutoff)/length(x)"
   ]
  },
  {
   "cell_type": "markdown",
   "metadata": {},
   "source": [
    "#### (c)  Simulate a dataset (or a summary of a dataset) under the null hypothesis, and test your hypotheses from part (a). State your conclusion. Is your conclusion in error? If so, which type?\n"
   ]
  },
  {
   "cell_type": "code",
   "execution_count": 39,
   "metadata": {},
   "outputs": [
    {
     "data": {
      "text/html": [
       "0.0499"
      ],
      "text/latex": [
       "0.0499"
      ],
      "text/markdown": [
       "0.0499"
      ],
      "text/plain": [
       "[1] 0.0499"
      ]
     },
     "metadata": {},
     "output_type": "display_data"
    },
    {
     "data": {
      "text/html": [
       "'I conclude that some variations in the data set support the alternate hypothesis that X &gt;= 20 heads in 30 coin flips'"
      ],
      "text/latex": [
       "'I conclude that some variations in the data set support the alternate hypothesis that X >= 20 heads in 30 coin flips'"
      ],
      "text/markdown": [
       "'I conclude that some variations in the data set support the alternate hypothesis that X &gt;= 20 heads in 30 coin flips'"
      ],
      "text/plain": [
       "[1] \"I conclude that some variations in the data set support the alternate hypothesis that X >= 20 heads in 30 coin flips\""
      ]
     },
     "metadata": {},
     "output_type": "display_data"
    },
    {
     "data": {
      "text/html": [
       "0.0499"
      ],
      "text/latex": [
       "0.0499"
      ],
      "text/markdown": [
       "0.0499"
      ],
      "text/plain": [
       "[1] 0.0499"
      ]
     },
     "metadata": {},
     "output_type": "display_data"
    },
    {
     "data": {
      "text/html": [
       "'is less than 5% so it rejects the null hypothesis a signifigance of 5%,'"
      ],
      "text/latex": [
       "'is less than 5\\% so it rejects the null hypothesis a signifigance of 5\\%,'"
      ],
      "text/markdown": [
       "'is less than 5% so it rejects the null hypothesis a signifigance of 5%,'"
      ],
      "text/plain": [
       "[1] \"is less than 5% so it rejects the null hypothesis a signifigance of 5%,\""
      ]
     },
     "metadata": {},
     "output_type": "display_data"
    }
   ],
   "source": [
    "x = matrix(ncol=1, nrow=10000)\n",
    "for (i in c(0:10000)) {\n",
    "    x[i] = rbinom(n=1, size=30, prob=0.5)\n",
    "}\n",
    "cutoff = x[x >= 20]\n",
    "length(cutoff)/length(x)\n",
    "\n",
    "\"I conclude that some variations in the data set support the alternate hypothesis that X >= 20 heads in 30 coin flips\"\n",
    "\n",
    "length(cutoff)/length(x) \n",
    "\"is less than 5% so it rejects the null hypothesis a signifigance of 5%,\""
   ]
  },
  {
   "cell_type": "markdown",
   "metadata": {},
   "source": [
    "#### (d) Construct a grid of values for $p$ under the alternative hypothesis. For each value of $p$ in this grid, calculate the power of this test (remember that statistical power is the probability of rejecting the null hypothesis while the alternative hypothesis is true). Make a plot of the power ($y$-axis) vs $p$ ($x$-axis). Interpret/comment on this plot. In particular, as $p$ gets further from the $p$ specified under the null hypothesis, what happens to the power?\n"
   ]
  },
  {
   "cell_type": "code",
   "execution_count": 72,
   "metadata": {},
   "outputs": [
    {
     "data": {
      "text/html": [
       "'This is an inverse normal distribution. As p gets further from p in the null hypothesis, the power increases'"
      ],
      "text/latex": [
       "'This is an inverse normal distribution. As p gets further from p in the null hypothesis, the power increases'"
      ],
      "text/markdown": [
       "'This is an inverse normal distribution. As p gets further from p in the null hypothesis, the power increases'"
      ],
      "text/plain": [
       "[1] \"This is an inverse normal distribution. As p gets further from p in the null hypothesis, the power increases\""
      ]
     },
     "metadata": {},
     "output_type": "display_data"
    },
    {
     "data": {
      "image/png": "[encoded data removed]",
      "text/plain": [
       "plot without title"
      ]
     },
     "metadata": {},
     "output_type": "display_data"
    }
   ],
   "source": [
    "cutoffs = matrix(ncol=2, nrow=20) \n",
    "s = sd(x)\n",
    "a = 15\n",
    "n = 30\n",
    "error = qnorm(0.975)*s/sqrt(n)\n",
    "left = a - error\n",
    "right = a + error\n",
    "\n",
    "\n",
    "for (i in c(0:20)) {\n",
    "    cutoffs[i,1] = length(x[x <= i])/length(x)\n",
    "    assumed = a + (i - 15)\n",
    "    Zleft = (left - assumed)/(s/sqrt(n))\n",
    "    Zright = (right - assumed)/(s/sqrt(n))\n",
    "    p = pnorm(Zright) - pnorm(Zleft)\n",
    "    cutoffs[i,2] = 1-p\n",
    "}\n",
    "\n",
    "plot(cutoffs[,1], cutoffs[,2])\n",
    "\"This is an inverse normal distribution. As p gets further from p in the null hypothesis, the power increases\""
   ]
  },
  {
   "cell_type": "markdown",
   "metadata": {},
   "source": [
    "## Problem 2\n",
    "\n",
    "Consider the test $H_0: p \\le 0.5$ vs $H_1: p > 0.5$, where $p$ is a population proportion. Let $\\alpha = 0.05$ and let $n$, the sample size, be 200.\n",
    "\n",
    "#### (a) Simulate $m = 100,000$ datasets where the true population proportion is $p = 0.5$. Calculate the p-value for the test above for each dataset. Print a histogram of these p-values. Comment on the distribution.\n",
    "\n"
   ]
  },
  {
   "cell_type": "code",
   "execution_count": 99,
   "metadata": {},
   "outputs": [
    {
     "data": {
      "text/html": [
       "'This data follows a normal distribution peaking in the middle'"
      ],
      "text/latex": [
       "'This data follows a normal distribution peaking in the middle'"
      ],
      "text/markdown": [
       "'This data follows a normal distribution peaking in the middle'"
      ],
      "text/plain": [
       "[1] \"This data follows a normal distribution peaking in the middle\""
      ]
     },
     "metadata": {},
     "output_type": "display_data"
    },
    {
     "data": {
      "image/png": "[encoded data removed]",
      "text/plain": [
       "Plot with title “Histogram of ds”"
      ]
     },
     "metadata": {},
     "output_type": "display_data"
    }
   ],
   "source": [
    "ds = matrix(ncol=1, nrow=10000)\n",
    "\n",
    "for (i in c(0:10000)) {\n",
    "    x = matrix(ncol=1, nrow=200)\n",
    "    for (j in c(0:200)) {\n",
    "        x[j] = rbinom(n=1, size=10, prob=0.5)\n",
    "    }\n",
    "    cutoff = x[x > 5]\n",
    "    ds[i] = length(cutoff)/length(x)\n",
    "}\n",
    "\n",
    "hist(ds)\n",
    "\"This data follows a normal distribution peaking in the middle\""
   ]
  },
  {
   "cell_type": "markdown",
   "metadata": {},
   "source": [
    "#### (b)  Use part (a) to show that the probability of type I error is (approximately) equal to $\\alpha$ (use the rule that rejects $H_0$ if the p-value is less than $\\alpha$). \n"
   ]
  },
  {
   "cell_type": "code",
   "execution_count": 103,
   "metadata": {},
   "outputs": [
    {
     "data": {
      "text/html": [
       "3e-04"
      ],
      "text/latex": [
       "3e-04"
      ],
      "text/markdown": [
       "3e-04"
      ],
      "text/plain": [
       "[1] 3e-04"
      ]
     },
     "metadata": {},
     "output_type": "display_data"
    },
    {
     "data": {
      "text/html": [
       "'= about 0.05'"
      ],
      "text/latex": [
       "'= about 0.05'"
      ],
      "text/markdown": [
       "'= about 0.05'"
      ],
      "text/plain": [
       "[1] \"= about 0.05\""
      ]
     },
     "metadata": {},
     "output_type": "display_data"
    }
   ],
   "source": [
    "length(ds[ds >= .5])/length(ds)\n",
    "\"= about 0.05\"\n"
   ]
  },
  {
   "cell_type": "markdown",
   "metadata": {},
   "source": [
    "#### (c) Considering the same test, simulate $m = 100,000$ datasets where the true population proportion is $p = 0.6$. Calculate the p-value for each sample. Print a histogram of these p-values. Comment on the distribution.\n"
   ]
  },
  {
   "cell_type": "code",
   "execution_count": 107,
   "metadata": {},
   "outputs": [
    {
     "data": {
      "image/png": "[encoded data removed]",
      "text/plain": [
       "Plot with title “Histogram of ds2”"
      ]
     },
     "metadata": {},
     "output_type": "display_data"
    }
   ],
   "source": [
    "ds2 = matrix(ncol=1, nrow=10000)\n",
    "\n",
    "for (i in c(0:10000)) {\n",
    "    x = matrix(ncol=1, nrow=200)\n",
    "    for (j in c(0:200)) {\n",
    "        x[j] = rbinom(n=1, size=10, prob=0.6)\n",
    "    }\n",
    "    x[i]\n",
    "    cutoff = x[x > 6]\n",
    "    ds2[i] = length(cutoff)/length(x)\n",
    "}\n",
    "\n",
    "hist(ds2)"
   ]
  },
  {
   "cell_type": "code",
   "execution_count": 91,
   "metadata": {},
   "outputs": [
    {
     "data": {
      "text/html": [
       "'The distribution follows the same normal shape, but is moved to the left, with a slightly lower mean'"
      ],
      "text/latex": [
       "'The distribution follows the same normal shape, but is moved to the left, with a slightly lower mean'"
      ],
      "text/markdown": [
       "'The distribution follows the same normal shape, but is moved to the left, with a slightly lower mean'"
      ],
      "text/plain": [
       "[1] \"The distribution follows the same normal shape, but is moved to the left, with a slightly lower mean\""
      ]
     },
     "metadata": {},
     "output_type": "display_data"
    }
   ],
   "source": [
    "\"The distribution follows the same normal shape, but is moved to the left, with a slightly lower mean\""
   ]
  },
  {
   "cell_type": "markdown",
   "metadata": {},
   "source": [
    "#### (d) What is the percentage of p-values (from part (c)) that are greater than $\\alpha$? What is the rate of type II error?\n"
   ]
  },
  {
   "cell_type": "code",
   "execution_count": 114,
   "metadata": {},
   "outputs": [
    {
     "data": {
      "text/html": [
       "0.0795050007219685"
      ],
      "text/latex": [
       "0.0795050007219685"
      ],
      "text/markdown": [
       "0.0795050007219685"
      ],
      "text/plain": [
       "[1] 0.079505"
      ]
     },
     "metadata": {},
     "output_type": "display_data"
    }
   ],
   "source": [
    "x = matrix(ncol=1, nrow=10000)\n",
    "for (i in c(0:10000)) {\n",
    "    x[i] = rbinom(n=1, size=10, prob=0.6)\n",
    "}\n",
    "\n",
    "s = sd(x)\n",
    "a = 6\n",
    "n = 10\n",
    "error = qnorm(0.95)*s/sqrt(n)\n",
    "left = a - error\n",
    "right = a + error\n",
    "\n",
    "\n",
    "assumed = a + 1.5\n",
    "Zleft = (left - assumed)/(s/sqrt(n))\n",
    "Zright = (right - assumed)/(s/sqrt(n))\n",
    "p = pnorm(Zright) - pnorm(Zleft)\n",
    "p"
   ]
  },
  {
   "cell_type": "markdown",
   "metadata": {},
   "source": [
    "#### (e) Calculate the power of this test.\n"
   ]
  },
  {
   "cell_type": "code",
   "execution_count": 115,
   "metadata": {},
   "outputs": [
    {
     "data": {
      "text/html": [
       "0.920494999278031"
      ],
      "text/latex": [
       "0.920494999278031"
      ],
      "text/markdown": [
       "0.920494999278031"
      ],
      "text/plain": [
       "[1] 0.920495"
      ]
     },
     "metadata": {},
     "output_type": "display_data"
    }
   ],
   "source": [
    "1-p"
   ]
  },
  {
   "cell_type": "markdown",
   "metadata": {},
   "source": [
    "#### (f) Now suppose that the true population proportion is $p = 0.7$. How do you expect the power of this test to change? Write code to verify your expectation.\n"
   ]
  },
  {
   "cell_type": "code",
   "execution_count": 122,
   "metadata": {},
   "outputs": [
    {
     "data": {
      "text/html": [
       "'I expect the power to increase as the population proportion increases'"
      ],
      "text/latex": [
       "'I expect the power to increase as the population proportion increases'"
      ],
      "text/markdown": [
       "'I expect the power to increase as the population proportion increases'"
      ],
      "text/plain": [
       "[1] \"I expect the power to increase as the population proportion increases\""
      ]
     },
     "metadata": {},
     "output_type": "display_data"
    },
    {
     "data": {
      "text/html": [
       "0.920494999278031"
      ],
      "text/latex": [
       "0.920494999278031"
      ],
      "text/markdown": [
       "0.920494999278031"
      ],
      "text/plain": [
       "[1] 0.920495"
      ]
     },
     "metadata": {},
     "output_type": "display_data"
    },
    {
     "data": {
      "text/html": [
       "'vs.'"
      ],
      "text/latex": [
       "'vs.'"
      ],
      "text/markdown": [
       "'vs.'"
      ],
      "text/plain": [
       "[1] \"vs.\""
      ]
     },
     "metadata": {},
     "output_type": "display_data"
    },
    {
     "data": {
      "text/html": [
       "0.947822220187927"
      ],
      "text/latex": [
       "0.947822220187927"
      ],
      "text/markdown": [
       "0.947822220187927"
      ],
      "text/plain": [
       "[1] 0.9478222"
      ]
     },
     "metadata": {},
     "output_type": "display_data"
    }
   ],
   "source": [
    "\"I expect the power to increase as the population proportion increases\"\n",
    "\n",
    "x = matrix(ncol=1, nrow=10000)\n",
    "for (i in c(0:10000)) {\n",
    "    x[i] = rbinom(n=1, size=10, prob=0.7)\n",
    "}\n",
    "\n",
    "s = sd(x)\n",
    "a = 6\n",
    "n = 10\n",
    "error = qnorm(0.95)*s/sqrt(n)\n",
    "left = a - error\n",
    "right = a + error\n",
    "\n",
    "\n",
    "assumed = a + 1.5\n",
    "Zleft = (left - assumed)/(s/sqrt(n))\n",
    "Zright = (right - assumed)/(s/sqrt(n))\n",
    "p2 = pnorm(Zright) - pnorm(Zleft)\n",
    "\n",
    "1-p\n",
    "\"vs.\"\n",
    "1-p2"
   ]
  },
  {
   "cell_type": "code",
   "execution_count": null,
   "metadata": {
    "collapsed": true
   },
   "outputs": [],
   "source": []
  }
 ],
 "metadata": {
  "kernelspec": {
   "display_name": "R",
   "language": "R",
   "name": "ir"
  },
  "language_info": {
   "codemirror_mode": "r",
   "file_extension": ".r",
   "mimetype": "text/x-r-source",
   "name": "R",
   "pygments_lexer": "r",
   "version": "3.4.2"
  }
 },
 "nbformat": 4,
 "nbformat_minor": 2
}
